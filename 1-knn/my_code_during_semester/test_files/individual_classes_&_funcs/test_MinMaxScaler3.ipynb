{
 "cells": [
  {
   "cell_type": "code",
   "execution_count": 1,
   "id": "93ce0272",
   "metadata": {},
   "outputs": [],
   "source": [
    "import numpy as np"
   ]
  },
  {
   "cell_type": "markdown",
   "id": "9d315737",
   "metadata": {},
   "source": [
    "# doc string\n",
    "\n",
    "        \"\"\"\n",
    "\t\tFor each feature, normalize it linearly so that its value is between 0 and 1 across all samples.\n",
    "        For example, if the input features(which is a np array) are [[2, -1], [-1, 5], [0, 0]],\n",
    "        the output should be [[1, 0], [0, 1], [0.333333, 0.16667]].\n",
    "\t\tThis is because: take the first feature(column) for example, which has values 2, -1, and 0 across the three samples.\n",
    "\t\tThe minimum value of this feature(column) is thus min=-1, while the maximum value is max=2.\n",
    "\t\tSo the new feature value for each sample can be computed by: new_value = (old_value - min)/(max-min),\n",
    "\t\tleading to 1, 0, and 0.333333.\n",
    "\t\tIf max happens to be same as min, set all new values to be zero for this feature.\n",
    "\t\t(For further reference, see https://en.wikipedia.org/wiki/Feature_scaling.)\n",
    "\n",
    "        :param features: List[List[float]]\n",
    "        :return: List[List[float]]\n",
    "        \"\"\""
   ]
  },
  {
   "cell_type": "code",
   "execution_count": 628,
   "id": "7993f256",
   "metadata": {},
   "outputs": [],
   "source": [
    "class MinMaxScaler:\n",
    "    def __init__(self):\n",
    "        pass\n",
    "\n",
    "    # TODO: min-max normalize data\n",
    "    def __call__(self, features):\n",
    "#         print(\"len(features) : \", len(features[0]))\n",
    "        fs = np.asarray(features)\n",
    "        zeros = []\n",
    "        non_zeros = []\n",
    "        store_all = []\n",
    "        final_list = []\n",
    "        \n",
    "        for f in range(fs.shape[1]):\n",
    "            col = fs[:, f]\n",
    "            get_min = np.min(col)\n",
    "            get_max = np.max(col)\n",
    "            \n",
    "#             print(\"col \", f+1, col, get_min, get_max)\n",
    "            if get_min == get_max :\n",
    "                for c in range(len(col)) :\n",
    "                    col[c] = float(0.0)\n",
    "                    zeros.append(col[c])\n",
    "                    \n",
    "                float_z_list = [float(a) for a in zeros]\n",
    "#                 print(\"float_z_list : \", float_z_list)\n",
    "                store_all.append(float_z_list)\n",
    "            else : \n",
    "#                 print(\"col : \", col)\n",
    "                n = (col - get_min) / (get_max - get_min)\n",
    "                non_zeros.append(n)\n",
    "        \n",
    "                for n_z in range(len(non_zeros)) :\n",
    "#                     convert from array in list to list in list\n",
    "                    non_zeros_list = list(non_zeros[n_z])\n",
    "                    print(\"non_zeros_list : \", non_zeros_list)\n",
    "        \n",
    "                    float_n_z_list = [float(a) for a in non_zeros_list]\n",
    "                    print(\"float_n_z_list : \", float_n_z_list)\n",
    "            \n",
    "                store_all.append(float_n_z_list)\n",
    "#                 print(\"store_all : \", store_all)\n",
    "        s_a_t = list(np.transpose(store_all))\n",
    "#         print(\"s_a_t : \", s_a_t)\n",
    "        \n",
    "#         final_list = [list(item) for item in s_a_t[1]]\n",
    "       \n",
    "\n",
    "#         for s in range(len(s_a_t)) :\n",
    "# #             print(s)\n",
    "#             l = list(s_a_t[s])\n",
    "#             final_list.append(l)\n",
    "        \n",
    "        return final_list"
   ]
  },
  {
   "cell_type": "code",
   "execution_count": 629,
   "id": "9b9b79e9",
   "metadata": {},
   "outputs": [],
   "source": [
    "m = MinMaxScaler()"
   ]
  },
  {
   "cell_type": "code",
   "execution_count": 630,
   "id": "f2d25da2",
   "metadata": {},
   "outputs": [
    {
     "name": "stdout",
     "output_type": "stream",
     "text": [
      "non_zeros_list :  [1.0, 0.0, 0.6]\n",
      "float_n_z_list :  [1.0, 0.0, 0.6]\n"
     ]
    },
    {
     "data": {
      "text/plain": [
       "[]"
      ]
     },
     "execution_count": 630,
     "metadata": {},
     "output_type": "execute_result"
    }
   ],
   "source": [
    "# inputs = np.array([[2, -1, -7], [-1, 5, -7], [0, 0, -7], [3, 5, -7]])\n",
    "# m(inputs)\n",
    "\n",
    "inputs2 = np.array([[-3, 0], [-3, -5], [-3, -2]])\n",
    "m(inputs2)\n",
    "\n",
    "# inputs3 = np.array([[-8, 8], [-8, 3], [-8, 4]])\n",
    "# m(inputs3)\n",
    "\n",
    "# inputs4 = np.array([[2, -1], [-1, 5], [0, 0]])\n",
    "# m(inputs4)"
   ]
  },
  {
   "cell_type": "code",
   "execution_count": null,
   "id": "1e397147",
   "metadata": {},
   "outputs": [],
   "source": []
  },
  {
   "cell_type": "code",
   "execution_count": null,
   "id": "28a7c0af",
   "metadata": {},
   "outputs": [],
   "source": []
  },
  {
   "cell_type": "code",
   "execution_count": null,
   "id": "d13875ba",
   "metadata": {},
   "outputs": [],
   "source": []
  }
 ],
 "metadata": {
  "kernelspec": {
   "display_name": "Python 3 (ipykernel)",
   "language": "python",
   "name": "python3"
  },
  "language_info": {
   "codemirror_mode": {
    "name": "ipython",
    "version": 3
   },
   "file_extension": ".py",
   "mimetype": "text/x-python",
   "name": "python",
   "nbconvert_exporter": "python",
   "pygments_lexer": "ipython3",
   "version": "3.8.12"
  }
 },
 "nbformat": 4,
 "nbformat_minor": 5
}
