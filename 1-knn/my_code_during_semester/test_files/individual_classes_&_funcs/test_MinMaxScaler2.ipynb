{
 "cells": [
  {
   "cell_type": "code",
   "execution_count": 1,
   "id": "93ce0272",
   "metadata": {},
   "outputs": [],
   "source": [
    "import numpy as np"
   ]
  },
  {
   "cell_type": "markdown",
   "id": "9d315737",
   "metadata": {},
   "source": [
    "# doc string\n",
    "\n",
    "        \"\"\"\n",
    "\t\tFor each feature, normalize it linearly so that its value is between 0 and 1 across all samples.\n",
    "        For example, if the input features are [[2, -1], [-1, 5], [0, 0]],\n",
    "        the output should be [[1, 0], [0, 1], [0.333333, 0.16667]].\n",
    "\t\tThis is because: take the first feature for example, which has values 2, -1, and 0 across the three samples.\n",
    "\t\tThe minimum value of this feature is thus min=-1, while the maximum value is max=2.\n",
    "\t\tSo the new feature value for each sample can be computed by: new_value = (old_value - min)/(max-min),\n",
    "\t\tleading to 1, 0, and 0.333333.\n",
    "\t\tIf max happens to be same as min, set all new values to be zero for this feature.\n",
    "\t\t(For further reference, see https://en.wikipedia.org/wiki/Feature_scaling.)\n",
    "\n",
    "        :param features: List[List[float]]\n",
    "        :return: List[List[float]]\n",
    "        \"\"\""
   ]
  },
  {
   "cell_type": "code",
   "execution_count": 253,
   "id": "7993f256",
   "metadata": {},
   "outputs": [],
   "source": [
    "class MinMaxScaler:\n",
    "    def __init__(self):\n",
    "        pass\n",
    "\n",
    "    # TODO: min-max normalize data\n",
    "    def __call__(self, features):\n",
    "#         print(\"len(features) : \", len(features))\n",
    "\n",
    "        col_0_list = []\n",
    "        col_1_list = []\n",
    "        for col in range(len(features)) :\n",
    "            col_0 = features[col][0]\n",
    "            col_0_list.append(col_0)\n",
    "\n",
    "            col_1 = features[col][1]\n",
    "            col_1_list.append(col_1)\n",
    "            \n",
    "#         print(\"col_0_list : \", col_0_list)\n",
    "#         print(\"col_1_list : \", col_1_list)\n",
    "\n",
    "#       get min & max of both columns\n",
    "        c_0_min = np.min(col_0_list)\n",
    "        c_0_max = np.max(col_0_list)\n",
    "        \n",
    "        c_1_min = np.min(col_1_list)\n",
    "        c_1_max = np.max(col_1_list)\n",
    "        \n",
    "#         print(\"c_0_min : \", c_0_min, \"c_0_max : \", c_0_max)\n",
    "#         print(\"c_1_min : \", c_1_min, \"c_1_max : \", c_1_max)\n",
    "\n",
    "        if c_0_min == c_0_max : \n",
    "            for idx in range(len(col_0_list)) : \n",
    "                col_0_list[idx] = float(0.0)\n",
    "#             print(\"col_0_list : \", col_0_list)\n",
    "\n",
    "#         new_value = (old_value - min)/(max-min)\n",
    "        else : \n",
    "#                 \n",
    "#             print(\"col_0_list : \", col_0_list, \"c_0_min : \", c_0_min)\n",
    "            col_0_list = (col_0_list - c_0_min) / (c_0_max - c_0_min)\n",
    "#         print(\"col_0_list : \", col_0_list)\n",
    "        \n",
    "        if c_1_min == c_1_max : \n",
    "            for idx in range(len(col_1_list)) : \n",
    "                col_1_list[idx] = float(0.0)\n",
    "#             print(\"col_1_list : \", col_1_list)\n",
    "\n",
    "#         new_value = (old_value - min)/(max-min)\n",
    "        else : \n",
    "#                 \n",
    "#             print(\"col_1_list : \", col_1_list, \"c_1_min : \", c_1_min)\n",
    "            col_1_list = (col_1_list - c_1_min) / (c_1_max - c_1_min)\n",
    "#         print(\"col_1_list : \", col_1_list)\n",
    "\n",
    "#         print(\"col_0_list : \", col_0_list, \"\\ncol_1_list : \", col_1_list)\n",
    "    \n",
    "        list_0 = [float(a) for a in col_0_list]\n",
    "        print(\"list_0 : \", list_0)\n",
    "        \n",
    "        list_1 = [float(b) for b in col_1_list]\n",
    "        print(\"list_1 : \", list_1)\n",
    "        \n",
    "        final_list = [list(c) for c in zip(list_0, list_1)]\n",
    "        return final_list"
   ]
  },
  {
   "cell_type": "code",
   "execution_count": 254,
   "id": "9b9b79e9",
   "metadata": {},
   "outputs": [],
   "source": [
    "m = MinMaxScaler()"
   ]
  },
  {
   "cell_type": "code",
   "execution_count": 255,
   "id": "f2d25da2",
   "metadata": {},
   "outputs": [
    {
     "name": "stdout",
     "output_type": "stream",
     "text": [
      "list_0 :  [1.0, 0.0, 0.3333333333333333]\n",
      "list_1 :  [0.0, 1.0, 0.16666666666666666]\n"
     ]
    },
    {
     "data": {
      "text/plain": [
       "[[1.0, 0.0], [0.0, 1.0], [0.3333333333333333, 0.16666666666666666]]"
      ]
     },
     "execution_count": 255,
     "metadata": {},
     "output_type": "execute_result"
    }
   ],
   "source": [
    "inputs = [[2, -1, 0], [-1, 5, 0], [0, 0, 0]]\n",
    "m(inputs)\n",
    "\n",
    "# inputs2 = [[-2, -1], [-2, 5], [-2, 0]]\n",
    "# m(inputs2)"
   ]
  },
  {
   "cell_type": "code",
   "execution_count": null,
   "id": "1e397147",
   "metadata": {},
   "outputs": [],
   "source": []
  },
  {
   "cell_type": "code",
   "execution_count": null,
   "id": "28a7c0af",
   "metadata": {},
   "outputs": [],
   "source": []
  }
 ],
 "metadata": {
  "kernelspec": {
   "display_name": "Python 3 (ipykernel)",
   "language": "python",
   "name": "python3"
  },
  "language_info": {
   "codemirror_mode": {
    "name": "ipython",
    "version": 3
   },
   "file_extension": ".py",
   "mimetype": "text/x-python",
   "name": "python",
   "nbconvert_exporter": "python",
   "pygments_lexer": "ipython3",
   "version": "3.8.12"
  }
 },
 "nbformat": 4,
 "nbformat_minor": 5
}
