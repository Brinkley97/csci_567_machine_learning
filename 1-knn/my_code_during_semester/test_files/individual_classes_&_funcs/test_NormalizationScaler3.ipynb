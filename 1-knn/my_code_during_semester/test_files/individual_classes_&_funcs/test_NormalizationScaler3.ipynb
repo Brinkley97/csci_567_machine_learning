{
 "cells": [
  {
   "cell_type": "code",
   "execution_count": 1,
   "id": "353046c7",
   "metadata": {},
   "outputs": [],
   "source": [
    "import numpy as np"
   ]
  },
  {
   "cell_type": "markdown",
   "id": "ad25bff7",
   "metadata": {},
   "source": [
    "# doc string\n",
    "        \"\"\"\n",
    "        Normalize features for every sample\n",
    "            ==> 1st feature (#columns) 3 samples (#rows) : 3, 1, 0\n",
    "            ==> 2nd feature 3 samples : 4, -1, 0\n",
    "            \n",
    "        Example\n",
    "        features = [[3, 4], [1, -1], [0, 0]]\n",
    "        return [[0.6, 0.8], [0.707107, -0.707107], [0, 0]]\n",
    "\n",
    "        :param features: List[List[float]]\n",
    "        :return: List[List[float]]\n",
    "        \"\"\""
   ]
  },
  {
   "cell_type": "code",
   "execution_count": 166,
   "id": "f1a57c24",
   "metadata": {},
   "outputs": [],
   "source": [
    "class NormalizationScaler:\n",
    "    def __init__(self):\n",
    "        pass\n",
    "\n",
    "    # TODO: normalize data\n",
    "    def __call__(self, features):\n",
    "#         raise NotImplementedError\n",
    "#        print(\"hey\")\n",
    "        fs = np.asarray(features)\n",
    "#         print(fs)\n",
    "\n",
    "        normalized_vector = []\n",
    "        normalized_point = []\n",
    "        final_list = []\n",
    "        \n",
    "        for f in range(len(fs)) :\n",
    "#             print(\"f : \", f)\n",
    "            add_square_points = np.sum(np.square(fs[f]))\n",
    "#             print(\"add_square_points : \", add_square_points)\n",
    "            square_features = np.sqrt(add_square_points)\n",
    "#             print(\"square_features : \", square_features)\n",
    "            \n",
    "#             print(fs[f], \" / \", square_features)\n",
    "            if all(fs[f] == 0) :\n",
    "                normalized_point = []\n",
    "                a = float(0.0)\n",
    "                print(\"fs[f] : \", fs[f])\n",
    "                normalized_point.append(fs[f])\n",
    "            else :\n",
    "                normalized_point = []\n",
    "                n = fs[f] / square_features\n",
    "                normalized_point.append(n)\n",
    "        \n",
    "#             print(\"normalized_point : \", normalized_point)\n",
    "            normalized_vector.append(normalized_point)\n",
    "#         print(\"normalized_vector : \", normalized_vector)\n",
    "    \n",
    "        \n",
    "        \n",
    "        for list_n_v in range(len(normalized_vector)) :\n",
    "            a = list(normalized_vector[list_n_v][0])\n",
    "            \n",
    "            float_n_v = [float(norm_vect) for norm_vect in a]\n",
    "#             print(\"float_n_v : \", float_n_v)\n",
    "            \n",
    "            final_list.append(float_n_v)\n",
    "        \n",
    "        return final_list"
   ]
  },
  {
   "cell_type": "code",
   "execution_count": 167,
   "id": "37a334bd",
   "metadata": {},
   "outputs": [
    {
     "name": "stdout",
     "output_type": "stream",
     "text": [
      "fs[f] :  [0 0]\n"
     ]
    },
    {
     "data": {
      "text/plain": [
       "[[0.6, 0.8], [0.7071067811865475, -0.7071067811865475], [0.0, 0.0]]"
      ]
     },
     "execution_count": 167,
     "metadata": {},
     "output_type": "execute_result"
    }
   ],
   "source": [
    "n = NormalizationScaler()\n",
    "features2 = np.array([[3, 4], [1, -1], [0, 0]])\n",
    "n(features2)\n",
    "\n",
    "# inputs = np.array([[2, -1, -7], [-1, 5, -7], [0, 0, -7], [3, 5, -7]])\n",
    "# n(inputs)\n",
    "\n",
    "# inputs2 = np.array([[-3, 0], [-3, -5], [-3, -2]])\n",
    "# n(inputs2)\n",
    "\n",
    "# inputs3 = np.array([[-8, 8], [-8, 3], [-8, 4]])\n",
    "# n(inputs3)\n",
    "\n",
    "# inputs4 = np.array([[2, -1], [-1, 5], [0, 0]])\n",
    "# n(inputs4)"
   ]
  },
  {
   "cell_type": "code",
   "execution_count": null,
   "id": "47e63a1a",
   "metadata": {},
   "outputs": [],
   "source": []
  },
  {
   "cell_type": "code",
   "execution_count": null,
   "id": "99ff09cc",
   "metadata": {},
   "outputs": [],
   "source": [
    "\n",
    "    \n",
    "                    "
   ]
  }
 ],
 "metadata": {
  "kernelspec": {
   "display_name": "Python 3 (ipykernel)",
   "language": "python",
   "name": "python3"
  },
  "language_info": {
   "codemirror_mode": {
    "name": "ipython",
    "version": 3
   },
   "file_extension": ".py",
   "mimetype": "text/x-python",
   "name": "python",
   "nbconvert_exporter": "python",
   "pygments_lexer": "ipython3",
   "version": "3.8.12"
  }
 },
 "nbformat": 4,
 "nbformat_minor": 5
}
