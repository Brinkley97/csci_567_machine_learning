{
 "cells": [
  {
   "cell_type": "code",
   "execution_count": 4,
   "id": "353046c7",
   "metadata": {},
   "outputs": [],
   "source": [
    "import numpy as np"
   ]
  },
  {
   "cell_type": "markdown",
   "id": "ad25bff7",
   "metadata": {},
   "source": [
    "# doc string\n",
    "        \"\"\"\n",
    "        Normalize features for every sample\n",
    "            ==> 1st feature (#columns) 3 samples (#rows) : 3, 1, 0\n",
    "            ==> 2nd feature 3 samples : 4, -1, 0\n",
    "            \n",
    "        Example\n",
    "        features = [[3, 4], [1, -1], [0, 0]]\n",
    "        return [[0.6, 0.8], [0.707107, -0.707107], [0, 0]]\n",
    "\n",
    "        :param features: List[List[float]]\n",
    "        :return: List[List[float]]\n",
    "        \"\"\""
   ]
  },
  {
   "cell_type": "code",
   "execution_count": 688,
   "id": "f1a57c24",
   "metadata": {},
   "outputs": [],
   "source": [
    "class NormalizationScaler:\n",
    "    def __init__(self):\n",
    "        pass\n",
    "\n",
    "    # TODO: normalize data\n",
    "    def __call__(self, features):\n",
    "#         raise NotImplementedError\n",
    "#        print(\"hey\")\n",
    "        fs = np.asarray(features)\n",
    "#         print(fs)\n",
    "        s_f = []\n",
    "        for i in range(len(fs)) :\n",
    "            add_square_points = np.sum(np.square(fs[i]))\n",
    "#             print(\">> \", c_s)\n",
    "            square_features = np.sqrt(add_square_points)\n",
    "#             print(\"square_features : \", square_features)\n",
    "        \n",
    "            s_f.append(square_features)\n",
    "#         print(\"s_f : \", s_f)\n",
    "\n",
    "        zero_p = []\n",
    "        none_zero_p = []\n",
    "        normalized_point = []\n",
    "        \n",
    "        for f in range(fs.shape[1]) :\n",
    "#             print(\"f : \", f)\n",
    "            col = fs[:, f]\n",
    "#             print(col, s_f[f])\n",
    "            \n",
    "            if col[f] == 0 :\n",
    "                zero_p.append(0)\n",
    "                normalized_point.append(zero_p)\n",
    "            else :\n",
    "#                 print(\"col[c] : \", col[c], \"s_f[c] : \", s_f[c])\n",
    "#                 print(features, \" / \", s_f[f])\n",
    "                n = features / s_f[f]\n",
    "#                 features (\">> n : \", n)\n",
    "                none_zero_p.append(n)\n",
    "                    \n",
    "                normalized_point.append(none_zero_p)\n",
    "#             \n",
    "        \n",
    "        print(\"normalized_point : \", normalized_point)\n",
    "        \n",
    "        "
   ]
  },
  {
   "cell_type": "code",
   "execution_count": 689,
   "id": "37a334bd",
   "metadata": {},
   "outputs": [
    {
     "name": "stdout",
     "output_type": "stream",
     "text": [
      "normalized_point :  [[array([[ 0.6,  0.8],\n",
      "       [ 0.2, -0.2],\n",
      "       [ 0. ,  0. ]]), array([[ 2.12132034,  2.82842712],\n",
      "       [ 0.70710678, -0.70710678],\n",
      "       [ 0.        ,  0.        ]])], [array([[ 0.6,  0.8],\n",
      "       [ 0.2, -0.2],\n",
      "       [ 0. ,  0. ]]), array([[ 2.12132034,  2.82842712],\n",
      "       [ 0.70710678, -0.70710678],\n",
      "       [ 0.        ,  0.        ]])]]\n"
     ]
    }
   ],
   "source": [
    "n = NormalizationScaler()\n",
    "features2 = np.array([[3, 4], [1, -1], [0, 0]])\n",
    "n(features2)"
   ]
  },
  {
   "cell_type": "code",
   "execution_count": null,
   "id": "47e63a1a",
   "metadata": {},
   "outputs": [],
   "source": []
  },
  {
   "cell_type": "code",
   "execution_count": null,
   "id": "99ff09cc",
   "metadata": {},
   "outputs": [],
   "source": [
    "\n",
    "        for b in range(len(fs)) :\n",
    "            print(\"fs[b] : \", fs[b])\n",
    "            if any(fs[b] == 0) :\n",
    "#                 print(\"he\")\n",
    "    #                 add points here\n",
    "                normalized_point.append(fs[b])\n",
    "            else : \n",
    "                print()\n",
    "                    "
   ]
  }
 ],
 "metadata": {
  "kernelspec": {
   "display_name": "Python 3 (ipykernel)",
   "language": "python",
   "name": "python3"
  },
  "language_info": {
   "codemirror_mode": {
    "name": "ipython",
    "version": 3
   },
   "file_extension": ".py",
   "mimetype": "text/x-python",
   "name": "python",
   "nbconvert_exporter": "python",
   "pygments_lexer": "ipython3",
   "version": "3.8.12"
  }
 },
 "nbformat": 4,
 "nbformat_minor": 5
}
