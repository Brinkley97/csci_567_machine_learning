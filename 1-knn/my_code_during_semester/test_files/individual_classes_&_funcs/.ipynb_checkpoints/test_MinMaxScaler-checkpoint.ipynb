{
 "cells": [
  {
   "cell_type": "code",
   "execution_count": 1,
   "id": "0152cfe7",
   "metadata": {},
   "outputs": [],
   "source": [
    "import numpy as np"
   ]
  },
  {
   "cell_type": "markdown",
   "id": "c4840220",
   "metadata": {},
   "source": [
    "# doc string\n",
    "\n",
    "        \"\"\"\n",
    "\t\tFor each feature, normalize it linearly so that its value is between 0 and 1 across all samples.\n",
    "        For example, if the input features are [[2, -1], [-1, 5], [0, 0]],\n",
    "        the output should be [[1, 0], [0, 1], [0.333333, 0.16667]].\n",
    "\t\tThis is because: take the first feature for example, which has values 2, -1, and 0 across the three samples.\n",
    "\t\tThe minimum value of this feature is thus min=-1, while the maximum value is max=2.\n",
    "\t\tSo the new feature value for each sample can be computed by: new_value = (old_value - min)/(max-min),\n",
    "\t\tleading to 1, 0, and 0.333333.\n",
    "\t\tIf max happens to be same as min, set all new values to be zero for this feature.\n",
    "\t\t(For further reference, see https://en.wikipedia.org/wiki/Feature_scaling.)\n",
    "\n",
    "        :param features: List[List[float]]\n",
    "        :return: List[List[float]]\n",
    "        \"\"\""
   ]
  },
  {
   "cell_type": "code",
   "execution_count": 25,
   "id": "0eecc813",
   "metadata": {},
   "outputs": [],
   "source": [
    "class MinMaxScaler:\n",
    "    def __init__(self):\n",
    "        pass\n",
    "\n",
    "    # TODO: min-max normalize data\n",
    "    def __call__(self, features):\n",
    "        print(\"features : \", features)\n",
    "        store_m_m_s = []\n",
    "        \n",
    "        arr_f = np.asarray(features, dtype=float)\n",
    "#         print(\"arr_f : \", arr_f)\n",
    "        \n",
    "        col_1 = arr_f[:, 0]\n",
    "#         print(\"col_1 = \", col_1)\n",
    "        \n",
    "        col_2 = arr_f[:, 1] \n",
    "        print(\"col_2 = \", col_2)\n",
    "        \n",
    "#         print(\"col_1.min = \", col_1.min())\n",
    "#         print(\"col_1.max = \", col_1.max())\n",
    "        \n",
    "#         check for col_1\n",
    "        if col_1.min() == col_1.max() :\n",
    "            arr_f[:, 0] = float(0.0)\n",
    "            store_m_m_s.append(arr_f[:, 0])\n",
    "            \n",
    "#             print(\"store_m_m_s : \", store_m_m_s)\n",
    "            \n",
    "\n",
    "        else :\n",
    "            c_1 = (col_1 - col_1.min()) / (col_1.max() - col_1.min())\n",
    "#             print(\">>c_1 = \", c_1)\n",
    "            store_m_m_s.append(c_1)\n",
    "        \n",
    "#         check for col_2\n",
    "        if col_2.min() == col_2.max() :\n",
    "            arr_f[:, 1] = float(0.0)\n",
    "            store_m_m_s.append(arr_f[:, 1])\n",
    "        else :\n",
    "#             print(\"col_2 : \", col_2)\n",
    "#             print(col_2.min())\n",
    "            \n",
    "#             np.subtract(col_2, col_2.min())\n",
    "            c_2 = (np.subtract(col_2, col_2.min())) / (col_2.max() - col_2.min())\n",
    "#             print(\"c_2 = \", c_2)\n",
    "            store_m_m_s.append(c_2)\n",
    "        \n",
    "#         print(\"store_m_m_s : \", store_m_m_s)\n",
    "#         print(\"store_m_m_s : \", type(store_m_m_s))\n",
    "        \n",
    "        convert from array in list to list in list\n",
    "        list_a = list(store_m_m_s[0])\n",
    "#         print(\"list_a : \", list_a)\n",
    "        list_b = list(store_m_m_s[1])\n",
    "        \n",
    "        list_a2 = [float(a) for a in list_a]\n",
    "#         print(\"list_a2 : \", list_a2)\n",
    "        \n",
    "        list_b2 = [float(b) for b in list_b]\n",
    "#         print(\"list_b2 : \", list_b2)\n",
    "        \n",
    "        final_list = [list(a) for a in zip(list_a2, list_b2)]\n",
    "        return final_list"
   ]
  },
  {
   "cell_type": "code",
   "execution_count": 26,
   "id": "1358ab51",
   "metadata": {},
   "outputs": [],
   "source": [
    "m = MinMaxScaler()"
   ]
  },
  {
   "cell_type": "code",
   "execution_count": 27,
   "id": "5b08d187",
   "metadata": {},
   "outputs": [
    {
     "name": "stdout",
     "output_type": "stream",
     "text": [
      "features :  [[ 2 -1]\n",
      " [-1  5]\n",
      " [ 0  0]]\n",
      "col_2 =  [-1.  5.  0.]\n",
      "store_m_m_s :  [array([1.        , 0.        , 0.33333333]), array([0.        , 1.        , 0.16666667])]\n",
      "list_a :  [1.0, 0.0, 0.3333333333333333]\n"
     ]
    }
   ],
   "source": [
    "input1 = np.array([\n",
    "    [2, -1], \n",
    "    [-1, 5], \n",
    "    [0, 0]\n",
    "    ])\n",
    "m(input1)"
   ]
  },
  {
   "cell_type": "code",
   "execution_count": null,
   "id": "5214bd38",
   "metadata": {},
   "outputs": [],
   "source": [
    "input2 = np.array([\n",
    "    [-8, -1], \n",
    "    [-8, -1], \n",
    "    [-8, -1]\n",
    "    ])\n",
    "m(input2)"
   ]
  },
  {
   "cell_type": "code",
   "execution_count": 5,
   "id": "48726ecb",
   "metadata": {},
   "outputs": [
    {
     "name": "stdout",
     "output_type": "stream",
     "text": [
      "features :  [[-2, -1], [-2, 5], [-2, 0]]\n",
      "col_2 =  [-1.  5.  0.]\n",
      "list_a2 :  [0.0, 0.0, 0.0]\n",
      "list_b2 :  [0.0, 1.0, 0.16666666666666666]\n"
     ]
    },
    {
     "data": {
      "text/plain": [
       "[[0.0, 0.0], [0.0, 1.0], [0.0, 0.16666666666666666]]"
      ]
     },
     "execution_count": 5,
     "metadata": {},
     "output_type": "execute_result"
    }
   ],
   "source": [
    "inputs = [[-2, -1], [-2, 5], [-2, 0]]\n",
    "m(inputs)"
   ]
  },
  {
   "cell_type": "code",
   "execution_count": null,
   "id": "7091fed4",
   "metadata": {},
   "outputs": [],
   "source": []
  },
  {
   "cell_type": "code",
   "execution_count": null,
   "id": "0dfeab33",
   "metadata": {},
   "outputs": [],
   "source": []
  }
 ],
 "metadata": {
  "kernelspec": {
   "display_name": "Python 3 (ipykernel)",
   "language": "python",
   "name": "python3"
  },
  "language_info": {
   "codemirror_mode": {
    "name": "ipython",
    "version": 3
   },
   "file_extension": ".py",
   "mimetype": "text/x-python",
   "name": "python",
   "nbconvert_exporter": "python",
   "pygments_lexer": "ipython3",
   "version": "3.8.12"
  }
 },
 "nbformat": 4,
 "nbformat_minor": 5
}
