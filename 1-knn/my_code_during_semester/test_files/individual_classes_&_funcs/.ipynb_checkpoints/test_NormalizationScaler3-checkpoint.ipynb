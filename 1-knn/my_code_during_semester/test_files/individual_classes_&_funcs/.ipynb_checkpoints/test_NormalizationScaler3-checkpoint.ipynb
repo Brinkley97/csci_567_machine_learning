{
 "cells": [
  {
   "cell_type": "code",
   "execution_count": 1,
   "id": "353046c7",
   "metadata": {},
   "outputs": [],
   "source": [
    "import numpy as np"
   ]
  },
  {
   "cell_type": "markdown",
   "id": "ad25bff7",
   "metadata": {},
   "source": [
    "# doc string\n",
    "        \"\"\"\n",
    "        Normalize features for every sample\n",
    "            ==> 1st feature (#columns) 3 samples (#rows) : 3, 1, 0\n",
    "            ==> 2nd feature 3 samples : 4, -1, 0\n",
    "            \n",
    "        Example\n",
    "        features = [[3, 4], [1, -1], [0, 0]]\n",
    "        return [[0.6, 0.8], [0.707107, -0.707107], [0, 0]]\n",
    "\n",
    "        :param features: List[List[float]]\n",
    "        :return: List[List[float]]\n",
    "        \"\"\""
   ]
  },
  {
   "cell_type": "code",
   "execution_count": 160,
   "id": "f1a57c24",
   "metadata": {},
   "outputs": [],
   "source": [
    "class NormalizationScaler:\n",
    "    def __init__(self):\n",
    "        pass\n",
    "\n",
    "    # TODO: normalize data\n",
    "    def __call__(self, features):\n",
    "#         raise NotImplementedError\n",
    "#        print(\"hey\")\n",
    "        fs = np.asarray(features)\n",
    "#         print(fs)\n",
    "\n",
    "        normalized_vector = []\n",
    "        normalized_point = []\n",
    "        final_list = []\n",
    "        \n",
    "        for f in range(len(fs)) :\n",
    "#             print(\"f : \", f)\n",
    "            add_square_points = np.sum(np.square(fs[f]))\n",
    "#             print(\"add_square_points : \", add_square_points)\n",
    "            square_features = np.sqrt(add_square_points)\n",
    "#             print(\"square_features : \", square_features)\n",
    "            \n",
    "#             print(fs[f], \" / \", square_features)\n",
    "            if any(fs[f] == 0) :\n",
    "                normalized_point = []\n",
    "                a = float(0.0)\n",
    "                print(\"fs[f] : \", fs[f])\n",
    "                normalized_point.append(fs[f])\n",
    "            else :\n",
    "                normalized_point = []\n",
    "                n = fs[f] / square_features\n",
    "                normalized_point.append(n)\n",
    "        \n",
    "#             print(\"normalized_point : \", normalized_point)\n",
    "            normalized_vector.append(normalized_point)\n",
    "#         print(\"normalized_vector : \", normalized_vector)\n",
    "    \n",
    "        \n",
    "        \n",
    "        for list_n_v in range(len(normalized_vector)) :\n",
    "            a = list(normalized_vector[list_n_v][0])\n",
    "            \n",
    "            float_n_v = [float(norm_vect) for norm_vect in a]\n",
    "#             print(\"float_n_v : \", float_n_v)\n",
    "            \n",
    "            final_list.append(float_n_v)\n",
    "        \n",
    "        return final_list"
   ]
  },
  {
   "cell_type": "code",
   "execution_count": 161,
   "id": "37a334bd",
   "metadata": {},
   "outputs": [
    {
     "ename": "NameError",
     "evalue": "name 's' is not defined",
     "output_type": "error",
     "traceback": [
      "\u001b[0;31m---------------------------------------------------------------------------\u001b[0m",
      "\u001b[0;31mNameError\u001b[0m                                 Traceback (most recent call last)",
      "\u001b[0;32m/var/folders/fz/zn5r8vq12nv5p23dtlr15sk40000gn/T/ipykernel_72778/1472342896.py\u001b[0m in \u001b[0;36m<module>\u001b[0;34m\u001b[0m\n\u001b[1;32m      1\u001b[0m \u001b[0mn\u001b[0m \u001b[0;34m=\u001b[0m \u001b[0mNormalizationScaler\u001b[0m\u001b[0;34m(\u001b[0m\u001b[0;34m)\u001b[0m\u001b[0;34m\u001b[0m\u001b[0;34m\u001b[0m\u001b[0m\n\u001b[1;32m      2\u001b[0m \u001b[0mfeatures2\u001b[0m \u001b[0;34m=\u001b[0m \u001b[0mnp\u001b[0m\u001b[0;34m.\u001b[0m\u001b[0marray\u001b[0m\u001b[0;34m(\u001b[0m\u001b[0;34m[\u001b[0m\u001b[0;34m[\u001b[0m\u001b[0;36m3\u001b[0m\u001b[0;34m,\u001b[0m \u001b[0;36m4\u001b[0m\u001b[0;34m]\u001b[0m\u001b[0;34m,\u001b[0m \u001b[0;34m[\u001b[0m\u001b[0;36m1\u001b[0m\u001b[0;34m,\u001b[0m \u001b[0;34m-\u001b[0m\u001b[0;36m1\u001b[0m\u001b[0;34m]\u001b[0m\u001b[0;34m,\u001b[0m \u001b[0;34m[\u001b[0m\u001b[0;36m0\u001b[0m\u001b[0;34m,\u001b[0m \u001b[0;36m0\u001b[0m\u001b[0;34m]\u001b[0m\u001b[0;34m]\u001b[0m\u001b[0;34m)\u001b[0m\u001b[0;34m\u001b[0m\u001b[0;34m\u001b[0m\u001b[0m\n\u001b[0;32m----> 3\u001b[0;31m \u001b[0mn\u001b[0m\u001b[0;34m(\u001b[0m\u001b[0mfeatures2\u001b[0m\u001b[0;34m)\u001b[0m\u001b[0;34m\u001b[0m\u001b[0;34m\u001b[0m\u001b[0m\n\u001b[0m\u001b[1;32m      4\u001b[0m \u001b[0;34m\u001b[0m\u001b[0m\n\u001b[1;32m      5\u001b[0m \u001b[0;31m# inputs = np.array([[2, -1, -7], [-1, 5, -7], [0, 0, -7], [3, 5, -7]])\u001b[0m\u001b[0;34m\u001b[0m\u001b[0;34m\u001b[0m\u001b[0;34m\u001b[0m\u001b[0m\n",
      "\u001b[0;32m/var/folders/fz/zn5r8vq12nv5p23dtlr15sk40000gn/T/ipykernel_72778/4233601058.py\u001b[0m in \u001b[0;36m__call__\u001b[0;34m(self, features)\u001b[0m\n\u001b[1;32m     25\u001b[0m                 \u001b[0mnormalized_point\u001b[0m \u001b[0;34m=\u001b[0m \u001b[0;34m[\u001b[0m\u001b[0;34m]\u001b[0m\u001b[0;34m\u001b[0m\u001b[0;34m\u001b[0m\u001b[0m\n\u001b[1;32m     26\u001b[0m                 \u001b[0ma\u001b[0m \u001b[0;34m=\u001b[0m \u001b[0mfloat\u001b[0m\u001b[0;34m(\u001b[0m\u001b[0;36m0.0\u001b[0m\u001b[0;34m)\u001b[0m\u001b[0;34m\u001b[0m\u001b[0;34m\u001b[0m\u001b[0m\n\u001b[0;32m---> 27\u001b[0;31m                 \u001b[0mprint\u001b[0m\u001b[0;34m(\u001b[0m\u001b[0;34m\"s[f] : \"\u001b[0m\u001b[0;34m,\u001b[0m \u001b[0ms\u001b[0m\u001b[0;34m[\u001b[0m\u001b[0mf\u001b[0m\u001b[0;34m]\u001b[0m\u001b[0;34m)\u001b[0m\u001b[0;34m\u001b[0m\u001b[0;34m\u001b[0m\u001b[0m\n\u001b[0m\u001b[1;32m     28\u001b[0m                 \u001b[0mnormalized_point\u001b[0m\u001b[0;34m.\u001b[0m\u001b[0mappend\u001b[0m\u001b[0;34m(\u001b[0m\u001b[0mfs\u001b[0m\u001b[0;34m[\u001b[0m\u001b[0mf\u001b[0m\u001b[0;34m]\u001b[0m\u001b[0;34m)\u001b[0m\u001b[0;34m\u001b[0m\u001b[0;34m\u001b[0m\u001b[0m\n\u001b[1;32m     29\u001b[0m             \u001b[0;32melse\u001b[0m \u001b[0;34m:\u001b[0m\u001b[0;34m\u001b[0m\u001b[0;34m\u001b[0m\u001b[0m\n",
      "\u001b[0;31mNameError\u001b[0m: name 's' is not defined"
     ]
    }
   ],
   "source": [
    "n = NormalizationScaler()\n",
    "features2 = np.array([[3, 4], [1, -1], [0, 0]])\n",
    "n(features2)\n",
    "\n",
    "# inputs = np.array([[2, -1, -7], [-1, 5, -7], [0, 0, -7], [3, 5, -7]])\n",
    "# n(inputs)\n",
    "\n",
    "# inputs2 = np.array([[-3, 0], [-3, -5], [-3, -2]])\n",
    "# n(inputs2)\n",
    "\n",
    "# inputs3 = np.array([[-8, 8], [-8, 3], [-8, 4]])\n",
    "# n(inputs3)\n",
    "\n",
    "# inputs4 = np.array([[2, -1], [-1, 5], [0, 0]])\n",
    "# n(inputs4)"
   ]
  },
  {
   "cell_type": "code",
   "execution_count": null,
   "id": "47e63a1a",
   "metadata": {},
   "outputs": [],
   "source": []
  },
  {
   "cell_type": "code",
   "execution_count": null,
   "id": "99ff09cc",
   "metadata": {},
   "outputs": [],
   "source": [
    "\n",
    "    \n",
    "                    "
   ]
  }
 ],
 "metadata": {
  "kernelspec": {
   "display_name": "Python 3 (ipykernel)",
   "language": "python",
   "name": "python3"
  },
  "language_info": {
   "codemirror_mode": {
    "name": "ipython",
    "version": 3
   },
   "file_extension": ".py",
   "mimetype": "text/x-python",
   "name": "python",
   "nbconvert_exporter": "python",
   "pygments_lexer": "ipython3",
   "version": "3.8.12"
  }
 },
 "nbformat": 4,
 "nbformat_minor": 5
}
