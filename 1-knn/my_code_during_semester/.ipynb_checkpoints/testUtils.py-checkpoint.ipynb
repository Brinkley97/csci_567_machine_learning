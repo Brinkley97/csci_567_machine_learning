{
 "cells": [
  {
   "cell_type": "code",
   "execution_count": 9,
   "id": "ac836a76",
   "metadata": {},
   "outputs": [],
   "source": [
    "import numpy as np"
   ]
  },
  {
   "cell_type": "code",
   "execution_count": 67,
   "id": "6c56ee15",
   "metadata": {},
   "outputs": [],
   "source": [
    "# added to utils.py\n",
    "def f1_score(real_labels, predicted_labels):\n",
    "    \"\"\"\n",
    "    Information on F1 score - https://en.wikipedia.org/wiki/F1_score\n",
    "    :param real_labels: List[int]\n",
    "    :param predicted_labels: List[int]\n",
    "    :return: float\n",
    "    \"\"\"\n",
    "    \n",
    "# assert keyword tests if a condition is true\n",
    "    assert len(real_labels) == len(predicted_labels)\n",
    "#     raise NotImplementedError\n",
    "#     1s : positive\n",
    "#     0s: negative\n",
    "\n",
    "\n",
    "    total_labels = len(real_labels) + len(predicted_labels)\n",
    "    \n",
    "#     get t_p : collect all the 1s in t_p\n",
    "#     loop either r_l or p_l; same lenght so doesn't matter\n",
    "    true_positive = 0\n",
    "    for i in range(len(real_labels)) :\n",
    "#         ask : at this position, is there a 1; \n",
    "        if real_labels[i] == 1 and predicted_labels[i] == 1 :\n",
    "            true_positive += 1\n",
    "    \n",
    "#     get t_p_p :         \n",
    "    total_predicted_positive = 0\n",
    "    for i in range(len(real_labels)) :\n",
    "        if predicted_labels[i] == 1 :\n",
    "            total_predicted_positive += 1 \n",
    "    \n",
    "#     get f_n : evaluate both real & predicted\n",
    "    false_negative = 0\n",
    "    for i in range(len(real_labels)) :\n",
    "        if real_labels[i] == 1 and predicted_labels[i] == 0 :\n",
    "            false_negative += 1\n",
    "    print(\"false_negative : \", false_negative)\n",
    "            \n",
    "    recall = true_positive / (true_positive + false_negative)\n",
    "    precision = true_positive / total_predicted_positive\n",
    "    \n",
    "    f1_score = ((precision * recall) / (precision + recall)) * 2\n",
    "    return f1_score"
   ]
  },
  {
   "cell_type": "code",
   "execution_count": 68,
   "id": "5ac532f5",
   "metadata": {},
   "outputs": [
    {
     "name": "stdout",
     "output_type": "stream",
     "text": [
      "false_negative :  2\n"
     ]
    },
    {
     "data": {
      "text/plain": [
       "0.6666666666666666"
      ]
     },
     "execution_count": 68,
     "metadata": {},
     "output_type": "execute_result"
    }
   ],
   "source": [
    "real_labels = [1, 1, 0, 1, 1]\n",
    "predicted_labels = [0, 1, 0, 0, 1]\n",
    "\n",
    "f1_score(real_labels, predicted_labels)"
   ]
  },
  {
   "cell_type": "code",
   "execution_count": 69,
   "id": "70db995d",
   "metadata": {},
   "outputs": [],
   "source": [
    "\n",
    "def minkowski_distance(point1, point2):\n",
    "    \"\"\"\n",
    "    Minkowski distance is the generalized version of Euclidean Distance\n",
    "    It is also know as L-p norm (where p>=1) that you have studied in class\n",
    "    For our assignment we need to take p=3\n",
    "    Information on Minkowski distance - https://en.wikipedia.org/wiki/Minkowski_distance\n",
    "    :param point1: List[float]\n",
    "    :param point2: List[float]\n",
    "    :return: float\n",
    "    \"\"\"\n",
    "\n",
    "#         raise NotImplementedError\n",
    "#         difference between x and x_prime\n",
    "    x_minus_x_prime = np.subtract(point1, point2)\n",
    "\n",
    "    absolute_of_differece = np.absolute(x_minus_x_prime)\n",
    "\n",
    "        # doc : https://numpy.org/doc/stable/reference/generated/numpy.power.html?highlight=cube\n",
    "    cubed_diff = pow(absolute_of_differece, 3)\n",
    "\n",
    "#         cube diff\n",
    "    sum_of_cubed_diff = np.sum(cubed_diff)\n",
    "\n",
    "#         cubed root the sum\n",
    "    cubed_root_of_sum = np.cbrt(sum_of_cubed_diff)\n",
    "\n",
    "    return cubed_root_of_sum"
   ]
  },
  {
   "cell_type": "code",
   "execution_count": 70,
   "id": "68e3c809",
   "metadata": {},
   "outputs": [
    {
     "data": {
      "text/plain": [
       "1.2599210498948732"
      ]
     },
     "execution_count": 70,
     "metadata": {},
     "output_type": "execute_result"
    }
   ],
   "source": [
    "point1 = [1.0, 2.0]\n",
    "point2 = [2.0, 1.0]\n",
    "minkowski_distance(point1, point2)"
   ]
  },
  {
   "cell_type": "code",
   "execution_count": 71,
   "id": "e50fee09",
   "metadata": {},
   "outputs": [],
   "source": [
    "def euclidean_distance(point1, point2):\n",
    "    \"\"\"\n",
    "    :param point1: List[float]\n",
    "    :param point2: List[float]\n",
    "    :return: float\n",
    "    \"\"\"\n",
    "\n",
    "#         difference between x and x_prime\n",
    "    x_minus_x_prime = np.subtract(point1, point2)\n",
    "\n",
    "#         square difference\n",
    "    squ_diff = pow(x_minus_x_prime, 2)\n",
    "\n",
    "#         sum diff\n",
    "    sum_of_squ_diff = np.sum(squ_diff)\n",
    "\n",
    "#         square root the sum\n",
    "    squ_root_of_sum = np.sqrt(sum_of_squ_diff)\n",
    "\n",
    "    return squ_root_of_sum"
   ]
  },
  {
   "cell_type": "code",
   "execution_count": 72,
   "id": "f1f481b8",
   "metadata": {},
   "outputs": [
    {
     "data": {
      "text/plain": [
       "1.4142135623730951"
      ]
     },
     "execution_count": 72,
     "metadata": {},
     "output_type": "execute_result"
    }
   ],
   "source": [
    "point1 = [1.0, 2.0]\n",
    "point2 = [2.0, 1.0]\n",
    "euclidean_distance(point1, point2)"
   ]
  },
  {
   "cell_type": "code",
   "execution_count": 23,
   "id": "d6fca8e4",
   "metadata": {},
   "outputs": [],
   "source": [
    "def cosine_similarity_distance(point1, point2):\n",
    "    \"\"\"\n",
    "   :param point1: List[float]\n",
    "   :param point2: List[float]\n",
    "   :return: float\n",
    "   \"\"\"\n",
    "    print(point1)\n",
    "    addition_for_p1 = 0\n",
    "    \n",
    "    square_points = np.square(point1) \n",
    "    addition_for_p1 = np.sum(square_points)\n",
    "    print(\"addition_for_p1 : \", addition_for_p1)\n",
    "\n",
    "    square_points2 = np.square(point2) \n",
    "    addition_for_p2 = np.sum(square_points2)\n",
    "    print(\"addition_for_p2 : \", addition_for_p2)\n",
    "\n",
    "\n",
    "    numerator = np.sum(np.multiply(point1, point2))\n",
    "    denom = np.multiply(np.sqrt(addition_for_p1), np.sqrt(addition_for_p2))\n",
    "    return1_minus = 1 - (numerator / denom)\n",
    "\n",
    "    if addition_for_p1 == 0 or addition_for_p2 == 0 :\n",
    "        return  1\n",
    "    else :\n",
    "        return return1_minus"
   ]
  },
  {
   "cell_type": "code",
   "execution_count": 24,
   "id": "ef68321f",
   "metadata": {},
   "outputs": [
    {
     "name": "stdout",
     "output_type": "stream",
     "text": [
      "[1.0, 3.0]\n",
      "addition_for_p1 :  10.0\n",
      "addition_for_p2 :  20.0\n"
     ]
    },
    {
     "data": {
      "text/plain": [
       "0.010050506338833642"
      ]
     },
     "execution_count": 24,
     "metadata": {},
     "output_type": "execute_result"
    }
   ],
   "source": [
    "point1 = [1.0, 3.0]\n",
    "point2 = [2.0, 4.0]\n",
    "cosine_similarity_distance(point1, point2)"
   ]
  },
  {
   "cell_type": "code",
   "execution_count": 257,
   "id": "1902485b",
   "metadata": {},
   "outputs": [],
   "source": [
    "class NormalizationScaler:\n",
    "    def __init__(self):\n",
    "        pass\n",
    "\n",
    "    # TODO: normalize data\n",
    "    def __call__(self, features):\n",
    "        \"\"\"\n",
    "        Normalize features for every sample\n",
    "\n",
    "        Example\n",
    "        features = [[3, 4], [1, -1], [0, 0]]\n",
    "        return [[0.6, 0.8], [0.707107, -0.707107], [0, 0]]\n",
    "\n",
    "        :param features: List[List[float]]\n",
    "        :return: List[List[float]]\n",
    "        \"\"\"\n",
    "#         raise NotImplementedError\n",
    "        x = []\n",
    "        y = []\n",
    "\n",
    "        normalized_vector = []\n",
    "        for i in range(len(features)) : \n",
    "            x = features[i][0]\n",
    "            y = features[i][1]\n",
    "            print(x, y)\n",
    "            \n",
    "            square_points = np.square(features)\n",
    "#             print(\"square_points : \", square_points[i]) \n",
    "            \n",
    "            sum_features = np.sum(square_points[i])\n",
    "#             print(\"sum_features : \", sum_features)\n",
    "\n",
    "            square_features = np.sqrt(sum_features)\n",
    "#             print(\"square_features : \", square_features)\n",
    "\n",
    "            if x == 0 and y == 0 :\n",
    "                normalized_vector = normalized_vector\n",
    "#                 print(\"normalized_vector : \", normalized_vector)\n",
    "            else : \n",
    "                normalized_vector = features / square_features\n",
    "                print(\"normalized_vector : \", normalized_vector[i])\n",
    "        return normalized_vector"
   ]
  },
  {
   "cell_type": "code",
   "execution_count": 258,
   "id": "31d9989b",
   "metadata": {},
   "outputs": [
    {
     "name": "stdout",
     "output_type": "stream",
     "text": [
      "3 4\n",
      "normalized_vector :  [0.6 0.8]\n",
      "1 -1\n",
      "normalized_vector :  [ 0.70710678 -0.70710678]\n",
      "0 0\n"
     ]
    },
    {
     "data": {
      "text/plain": [
       "array([[ 2.12132034,  2.82842712],\n",
       "       [ 0.70710678, -0.70710678],\n",
       "       [ 0.        ,  0.        ]])"
      ]
     },
     "execution_count": 258,
     "metadata": {},
     "output_type": "execute_result"
    }
   ],
   "source": [
    "n = NormalizationScaler()\n",
    "features = [[3, 4], [1, -1], [0, 0]]\n",
    "n(features)"
   ]
  },
  {
   "cell_type": "code",
   "execution_count": null,
   "id": "65ffc73c",
   "metadata": {},
   "outputs": [],
   "source": []
  },
  {
   "cell_type": "code",
   "execution_count": null,
   "id": "86f45ea9",
   "metadata": {},
   "outputs": [],
   "source": []
  },
  {
   "cell_type": "code",
   "execution_count": null,
   "id": "783017c1",
   "metadata": {},
   "outputs": [],
   "source": []
  }
 ],
 "metadata": {
  "kernelspec": {
   "display_name": "Python 3",
   "language": "python",
   "name": "python3"
  },
  "language_info": {
   "codemirror_mode": {
    "name": "ipython",
    "version": 3
   },
   "file_extension": ".py",
   "mimetype": "text/x-python",
   "name": "python",
   "nbconvert_exporter": "python",
   "pygments_lexer": "ipython3",
   "version": "3.8.8"
  }
 },
 "nbformat": 4,
 "nbformat_minor": 5
}
