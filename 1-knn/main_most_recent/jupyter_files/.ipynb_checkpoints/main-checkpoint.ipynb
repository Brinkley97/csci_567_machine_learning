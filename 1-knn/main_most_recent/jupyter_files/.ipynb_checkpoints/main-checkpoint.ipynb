{
 "cells": [
  {
   "cell_type": "markdown",
   "id": "93759d3e-f8b0-4dd9-a05b-da5ff99e2e93",
   "metadata": {},
   "source": [
    "# Imports + Load Data"
   ]
  },
  {
   "cell_type": "code",
   "execution_count": 4,
   "id": "9776558c-47f2-41ea-9747-400e74c554fd",
   "metadata": {},
   "outputs": [],
   "source": [
    "import numpy as np"
   ]
  },
  {
   "cell_type": "code",
   "execution_count": null,
   "id": "aaeca3b6-4a3d-46da-8206-089f42f67442",
   "metadata": {},
   "outputs": [],
   "source": []
  },
  {
   "cell_type": "code",
   "execution_count": 100,
   "id": "b52bb842-47c1-46cd-8107-54874c597dca",
   "metadata": {},
   "outputs": [],
   "source": [
    "def f1_score(real_labels, predicted_labels):\n",
    "    \"\"\"\n",
    "    Information on F1 score - https://en.wikipedia.org/wiki/F1_score\n",
    "    :param real_labels: List[int]\n",
    "    :param predicted_labels: List[int]\n",
    "    :return: float\n",
    "    \"\"\"\n",
    "    assert len(real_labels) == len(predicted_labels)\n",
    "    # raise NotImplementedError\n",
    "    \n",
    "    # print(type(real_labels), predicted_labels)\n",
    "    true_positive = [] \n",
    "    false_positive = []\n",
    "    true_negative = []\n",
    "    false_negative = [] \n",
    "    \n",
    "    for i in range(len(real_labels)):\n",
    "        print(real_labels[i], predicted_labels[i])\n",
    "        if (real_labels[i] == predicted_labels[i]) & real_labels[i] == 1:\n",
    "\n",
    "            true_positive.append(real_labels[i])\n",
    "        \n",
    "        elif real_labels[i] > predicted_labels[i]:\n",
    "\n",
    "            true_negative.append(real_labels[i])\n",
    "        elif real_labels[i] < predicted_labels[i]:\n",
    "            \n",
    "            false_negative.append(predicted_labels[i])\n",
    "        else:\n",
    "            false_positive.append(predicted_labels[i])\n",
    "            \n",
    "    print(\"true_positive: \", true_positive)\n",
    "    print()\n",
    "    print(\"true_negative: \", true_negative)\n",
    "    print()\n",
    "    print(\"false_negative: \", false_negative)\n",
    "    print()\n",
    "    print(\"false_positive: \", false_positive)\n",
    "    \n",
    "    true_positive = np.array(true_positive)\n",
    "    false_positive = np.array(false_positive)\n",
    "    true_negative = np.array(true_negative)\n",
    "    false_negative = np.array(false_negative)\n",
    "    \n",
    "    \n",
    "    precision = np.divide(true_positive, np.add(true_positive, false_positive))\n",
    "    recall = np.divide(true_positive, np.add(true_positive, false_negative))\n",
    "    f1 = np.divide(precision * recall, np.add(precision, recall))\n",
    "    \n",
    "    return f1"
   ]
  },
  {
   "cell_type": "code",
   "execution_count": 101,
   "id": "562f670b-53a0-4f01-83eb-2541900e1419",
   "metadata": {},
   "outputs": [
    {
     "name": "stdout",
     "output_type": "stream",
     "text": [
      "1 1\n",
      "1 1\n",
      "1 1\n",
      "0 0\n",
      "true_positive:  [1, 1, 1]\n",
      "\n",
      "true_negative:  []\n",
      "\n",
      "false_negative:  []\n",
      "\n",
      "false_positive:  [0]\n"
     ]
    },
    {
     "ename": "ValueError",
     "evalue": "operands could not be broadcast together with shapes (3,) (0,) ",
     "output_type": "error",
     "traceback": [
      "\u001b[0;31m---------------------------------------------------------------------------\u001b[0m",
      "\u001b[0;31mValueError\u001b[0m                                Traceback (most recent call last)",
      "Cell \u001b[0;32mIn[101], line 4\u001b[0m\n\u001b[1;32m      1\u001b[0m label_train \u001b[38;5;241m=\u001b[39m np\u001b[38;5;241m.\u001b[39marray([\u001b[38;5;241m1\u001b[39m, \u001b[38;5;241m1\u001b[39m, \u001b[38;5;241m1\u001b[39m, \u001b[38;5;241m0\u001b[39m])\n\u001b[1;32m      2\u001b[0m label_val \u001b[38;5;241m=\u001b[39m np\u001b[38;5;241m.\u001b[39marray([\u001b[38;5;241m1\u001b[39m, \u001b[38;5;241m1\u001b[39m, \u001b[38;5;241m1\u001b[39m, \u001b[38;5;241m0\u001b[39m])\n\u001b[0;32m----> 4\u001b[0m \u001b[43mf1_score\u001b[49m\u001b[43m(\u001b[49m\u001b[43mlabel_train\u001b[49m\u001b[43m,\u001b[49m\u001b[43m \u001b[49m\u001b[43mlabel_val\u001b[49m\u001b[43m)\u001b[49m\n",
      "Cell \u001b[0;32mIn[100], line 47\u001b[0m, in \u001b[0;36mf1_score\u001b[0;34m(real_labels, predicted_labels)\u001b[0m\n\u001b[1;32m     43\u001b[0m false_negative \u001b[38;5;241m=\u001b[39m np\u001b[38;5;241m.\u001b[39marray(false_negative)\n\u001b[1;32m     46\u001b[0m precision \u001b[38;5;241m=\u001b[39m np\u001b[38;5;241m.\u001b[39mdivide(true_positive, np\u001b[38;5;241m.\u001b[39madd(true_positive, false_positive))\n\u001b[0;32m---> 47\u001b[0m recall \u001b[38;5;241m=\u001b[39m np\u001b[38;5;241m.\u001b[39mdivide(true_positive, \u001b[43mnp\u001b[49m\u001b[38;5;241;43m.\u001b[39;49m\u001b[43madd\u001b[49m\u001b[43m(\u001b[49m\u001b[43mtrue_positive\u001b[49m\u001b[43m,\u001b[49m\u001b[43m \u001b[49m\u001b[43mfalse_negative\u001b[49m\u001b[43m)\u001b[49m)\n\u001b[1;32m     48\u001b[0m f1 \u001b[38;5;241m=\u001b[39m np\u001b[38;5;241m.\u001b[39mdivide(precision \u001b[38;5;241m*\u001b[39m recall, np\u001b[38;5;241m.\u001b[39madd(precision, recall))\n\u001b[1;32m     50\u001b[0m \u001b[38;5;28;01mreturn\u001b[39;00m f1\n",
      "\u001b[0;31mValueError\u001b[0m: operands could not be broadcast together with shapes (3,) (0,) "
     ]
    }
   ],
   "source": [
    "label_train = np.array([1, 1, 1, 0])\n",
    "label_val = np.array([1, 1, 1, 0])\n",
    "\n",
    "f1_score(label_train, label_val)"
   ]
  },
  {
   "cell_type": "code",
   "execution_count": null,
   "id": "3bcb25f1-d428-4902-9cb3-a0e2b9a26fa4",
   "metadata": {},
   "outputs": [],
   "source": []
  }
 ],
 "metadata": {
  "kernelspec": {
   "display_name": "Python 3 (ipykernel)",
   "language": "python",
   "name": "python3"
  },
  "language_info": {
   "codemirror_mode": {
    "name": "ipython",
    "version": 3
   },
   "file_extension": ".py",
   "mimetype": "text/x-python",
   "name": "python",
   "nbconvert_exporter": "python",
   "pygments_lexer": "ipython3",
   "version": "3.9.16"
  }
 },
 "nbformat": 4,
 "nbformat_minor": 5
}
