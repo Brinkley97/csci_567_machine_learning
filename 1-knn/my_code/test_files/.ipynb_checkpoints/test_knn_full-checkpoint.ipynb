{
 "cells": [
  {
   "cell_type": "markdown",
   "id": "a4785332",
   "metadata": {},
   "source": [
    "# file contains \n",
    "- train\n",
    "- get_k_neighbors\n",
    "- predict"
   ]
  },
  {
   "cell_type": "code",
   "execution_count": 61,
   "id": "cfabfb95",
   "metadata": {},
   "outputs": [
    {
     "name": "stdout",
     "output_type": "stream",
     "text": [
      "1.21.2\n"
     ]
    }
   ],
   "source": [
    "import numpy as np\n",
    "from collections import Counter\n",
    "\n",
    "############################################################################\n",
    "# DO NOT MODIFY CODES ABOVE\n",
    "############################################################################\n",
    "\n",
    "class KNN:\n",
    "    def __init__(self, k, distance_function):\n",
    "        \"\"\"\n",
    "        :param k: int\n",
    "        :param distance_function\n",
    "        \"\"\"\n",
    "        self.k = k\n",
    "        self.distance_function = distance_function\n",
    "    \n",
    "    # TODO: save features and labels to self\n",
    "    def train(self, features, labels):\n",
    "        \"\"\"\n",
    "        In this function, features is simply training data which is a 2D list with float values.\n",
    "        For example, if the data looks like the following: Student 1 with features age 25, grade 3.8 and labeled as 0,\n",
    "        Student 2 with features age 22, grade 3.0 and labeled as 1, then the feature data would be\n",
    "        [ [25.0, 3.8], [22.0, 3.0] ] and the corresponding label would be [0, 1] label can be either a 0 or 1\n",
    "\n",
    "        For KNN, the training process is just loading of training data. Thus, all you need to do in this function\n",
    "        is create some local variable in KNN class to store this data so you can use the data in later process.\n",
    "        :param features: List[List[float]]\n",
    "        :param labels: List[int]\n",
    "        \"\"\"\n",
    "#         raise NotImplementedError\n",
    "\n",
    "        self.features = features\n",
    "#         print(\"self.features : \", self.features)\n",
    "        self.labels = labels\n",
    "\n",
    "    # TODO: find KNN of one point\n",
    "    def get_k_neighbors(self, point):\n",
    "\n",
    "#         raise NotImplementedError\n",
    "        store_dis = []\n",
    "        self.store_dis = store_dis\n",
    "        \n",
    "#         compare our new point to points in features\n",
    "        for feature in range(len(self.features)) : \n",
    "#             print(\"point : \", point)\n",
    "#             print(\"feature : \", self.features[feature])\n",
    "\n",
    "#         distance is taking in our self.d_f func w/ comparing new points and features\n",
    "            distance = self.distance_function(point, self.features[feature])\n",
    "#             print(\"distance : \", distance)\n",
    "            self.store_dis.append(distance)\n",
    "       \n",
    "#         indices from smallest to largest    \n",
    "        sort_dist = np.argsort(self.store_dis)[: self.k]\n",
    "#         print(\"sort_dist : \", type(sort_dist))\n",
    "        \n",
    "        type_s = type(self.labels)\n",
    "#         print(\"self.labels type : \", type_s)\n",
    "        \n",
    "        arr_labels = np.asarray(self.labels)\n",
    "#         print(\"arr_labels type : \", type(arr_labels))\n",
    "\n",
    "#         print(\"self.labels[sort_dist] : \", type(self.labels[sort_dist]))\n",
    "#         print(\"arr_labels[sort_dist] : \", type(arr_labels[sort_dist]))\n",
    "\n",
    "#         return labels of the s_d\n",
    "        return arr_labels[sort_dist]\n",
    "            \n",
    "\t# TODO: predict labels of a list of points\n",
    "    def predict(self, features):\n",
    "        \"\"\"\n",
    "        This function takes 2D list of test data points, similar to those from train function. \n",
    "            ==> features\n",
    "        Here, you need to process every test data point\n",
    "            ==> loop through every feature so len(self.features)\n",
    "        reuse the get_k_neighbours function to find the nearest k neighbours for each test data point\n",
    "            ==> get_k_neighbors(point) \n",
    "        find the majority of labels for these neighbours as the predicted label for that testing data point (you can assume that k is always a odd number).\n",
    "            ==> label can be either a 0 or 1; given\n",
    "            ==> features = [[25.0, 3.8], [25.0, 3.8], [21.0, 3.2], [21.0, 1.0], [15.0, 3.6], [22.0, 3.0]]\n",
    "            ==> 0, 0, 0, 0, 1, 1 so majority labels would be 0\n",
    "        Thus, you will get N predicted label for N test data point.\n",
    "            ==> predicted label = test data point \n",
    "            ==> add all 0s & 1s & that # should be the same as the total data points\n",
    "        This function needs to return a list of predicted labels for all test data points.\n",
    "            ==> return the labels of the features of the get_k_nei output (see below)\n",
    "        :param features: List[List[float]]\n",
    "        :return: List[int]\n",
    "        \"\"\"\n",
    "\n",
    "        most_labels = []\n",
    "        \n",
    "#         for every feature in list of features\n",
    "        for feature in range(len(features)) :\n",
    "#             call get_k_neighbors func & pass in each index of the features list\n",
    "            get_k_n = self.get_k_neighbors(feature)\n",
    "            \n",
    "#             count 1s \n",
    "            count_ones = (get_k_n == 1).sum()\n",
    "#             print(\"count_ones : \", count_ones)\n",
    "\n",
    "#             count 0s\n",
    "            count_zeros = (get_k_n == 0).sum()\n",
    "#             print(\"count_zeros : \", count_zeros)\n",
    "\n",
    "#             compare\n",
    "            if  count_ones >  count_zeros : \n",
    "                most_labels.append(1)\n",
    "            else :\n",
    "                most_labels.append(0)\n",
    "\n",
    "        return most_labels\n",
    "\n",
    "\n",
    "if __name__ == '__main__':\n",
    "    print(np.__version__)\n",
    "\n",
    "    "
   ]
  },
  {
   "cell_type": "markdown",
   "id": "ac45f633",
   "metadata": {},
   "source": [
    "# Distance Function"
   ]
  },
  {
   "cell_type": "code",
   "execution_count": 62,
   "id": "f59cb304",
   "metadata": {},
   "outputs": [],
   "source": [
    "from test_utils_full import Distances\n",
    "\n",
    "def euclidean_distance(point1, point2):\n",
    "    x_minus_x_prime = np.subtract(point1, point2)\n",
    "\n",
    "#         square difference\n",
    "    squ_diff = pow(x_minus_x_prime, 2)\n",
    "\n",
    "#         sum diff\n",
    "    sum_of_squ_diff = np.sum(squ_diff)\n",
    "\n",
    "#         square root the sum\n",
    "    squ_root_of_sum = np.sqrt(sum_of_squ_diff)\n",
    "#     print(\"squ_root_of_sum : \", squ_root_of_sum)\n",
    "\n",
    "    return squ_root_of_sum"
   ]
  },
  {
   "cell_type": "markdown",
   "id": "1a36e88d",
   "metadata": {},
   "source": [
    "# Data - Parameters"
   ]
  },
  {
   "cell_type": "code",
   "execution_count": 63,
   "id": "69e20139",
   "metadata": {},
   "outputs": [],
   "source": [
    "k = 5\n",
    "\n",
    "# points to test against features\n",
    "points = [30.0, 5.8]\n",
    "# print(\"point : \", point)\n",
    "\n",
    "# features (also data points)\n",
    "features = np.array([[25.0, 3.8], [22.0, 3.0], [21.0, 3.2], [21.0, 1.0], [15.0, 3.6], [22.0, 3.0]], dtype=float)\n",
    "# print(\"features : \", features)\n",
    "\n",
    "# labels to match features\n",
    "labels = np.array([0, 1, 0, 0, 1, 1])\n",
    "# print(\"labels : \", labels)\n"
   ]
  },
  {
   "cell_type": "markdown",
   "id": "5b7ba691",
   "metadata": {},
   "source": [
    "# Test Class & Functions\n",
    "1. KNN\n",
    "- call func of a class by ==> class.function_name(params)\n",
    "2. train\n",
    "3. get_k_nei\n",
    "4. predict"
   ]
  },
  {
   "cell_type": "code",
   "execution_count": 64,
   "id": "b25c7498",
   "metadata": {},
   "outputs": [
    {
     "name": "stdout",
     "output_type": "stream",
     "text": [
      "<__main__.KNN object at 0x7fc571003640>\n"
     ]
    }
   ],
   "source": [
    "# small knn is the object of the capital KNN class\n",
    "knn = KNN(k, euclidean_distance)\n",
    "print(knn)"
   ]
  },
  {
   "cell_type": "code",
   "execution_count": 65,
   "id": "2f613dc4",
   "metadata": {},
   "outputs": [
    {
     "name": "stdout",
     "output_type": "stream",
     "text": [
      "None\n"
     ]
    }
   ],
   "source": [
    "train = knn.train(features, labels)\n",
    "print(train)"
   ]
  },
  {
   "cell_type": "code",
   "execution_count": 66,
   "id": "a6772c2a",
   "metadata": {
    "scrolled": true
   },
   "outputs": [
    {
     "name": "stdout",
     "output_type": "stream",
     "text": [
      "k_n :  [0 1 1 0 0]\n"
     ]
    }
   ],
   "source": [
    "# the nearest k nei\n",
    "k_n = knn.get_k_neighbors(points)\n",
    "print(\"k_n : \", k_n)"
   ]
  },
  {
   "cell_type": "code",
   "execution_count": 67,
   "id": "526aede6",
   "metadata": {},
   "outputs": [
    {
     "data": {
      "text/plain": [
       "[1, 1, 1, 1, 1, 1]"
      ]
     },
     "execution_count": 67,
     "metadata": {},
     "output_type": "execute_result"
    }
   ],
   "source": [
    "# k = 3 \n",
    "# return labels = [0, 0, 1]\n",
    "## so return the labels of the features of the get_k_nei output\n",
    "# k = 5\n",
    "# return labels = [1, 1, 1, 1, 1]\n",
    "knn.predict(features)"
   ]
  },
  {
   "cell_type": "code",
   "execution_count": null,
   "id": "92190c92",
   "metadata": {},
   "outputs": [],
   "source": []
  },
  {
   "cell_type": "code",
   "execution_count": null,
   "id": "4e0f47ff",
   "metadata": {},
   "outputs": [],
   "source": []
  }
 ],
 "metadata": {
  "kernelspec": {
   "display_name": "Python 3 (ipykernel)",
   "language": "python",
   "name": "python3"
  },
  "language_info": {
   "codemirror_mode": {
    "name": "ipython",
    "version": 3
   },
   "file_extension": ".py",
   "mimetype": "text/x-python",
   "name": "python",
   "nbconvert_exporter": "python",
   "pygments_lexer": "ipython3",
   "version": "3.8.12"
  }
 },
 "nbformat": 4,
 "nbformat_minor": 5
}
