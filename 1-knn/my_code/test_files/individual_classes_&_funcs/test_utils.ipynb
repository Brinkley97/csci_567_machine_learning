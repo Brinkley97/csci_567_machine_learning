{
 "cells": [
  {
   "cell_type": "markdown",
   "id": "69d353e9",
   "metadata": {},
   "source": [
    "# file contains \n",
    "- f1_score\n",
    "- all 3 distances\n",
    "- MinMaxScaler\n",
    "- NormalizationScaler"
   ]
  },
  {
   "cell_type": "code",
   "execution_count": 1,
   "id": "ac836a76",
   "metadata": {},
   "outputs": [],
   "source": [
    "import numpy as np"
   ]
  },
  {
   "cell_type": "code",
   "execution_count": 2,
   "id": "6c56ee15",
   "metadata": {},
   "outputs": [],
   "source": [
    "# added to utils.py\n",
    "def f1_score(real_labels, predicted_labels):\n",
    "    \"\"\"\n",
    "    Information on F1 score - https://en.wikipedia.org/wiki/F1_score\n",
    "    :param real_labels: List[int]\n",
    "    :param predicted_labels: List[int]\n",
    "    :return: float\n",
    "    \"\"\"\n",
    "    \n",
    "# assert keyword tests if a condition is true\n",
    "    assert len(real_labels) == len(predicted_labels)\n",
    "#     raise NotImplementedError\n",
    "#     1s : positive\n",
    "#     0s: negative\n",
    "\n",
    "\n",
    "    total_labels = len(real_labels) + len(predicted_labels)\n",
    "    \n",
    "#     get t_p : collect all the 1s in t_p\n",
    "#     loop either r_l or p_l; same lenght so doesn't matter\n",
    "    true_positive = 0\n",
    "    for i in range(len(real_labels)) :\n",
    "#         ask : at this position, is there a 1; \n",
    "        if real_labels[i] == 1 and predicted_labels[i] == 1 :\n",
    "            true_positive += 1\n",
    "    \n",
    "#     get t_p_p :         \n",
    "    total_predicted_positive = 0\n",
    "    for i in range(len(real_labels)) :\n",
    "        if predicted_labels[i] == 1 :\n",
    "            total_predicted_positive += 1 \n",
    "    \n",
    "#     get f_n : evaluate both real & predicted\n",
    "    false_negative = 0\n",
    "    for i in range(len(real_labels)) :\n",
    "        if real_labels[i] == 1 and predicted_labels[i] == 0 :\n",
    "            false_negative += 1\n",
    "    print(\"false_negative : \", false_negative)\n",
    "            \n",
    "    recall = true_positive / (true_positive + false_negative)\n",
    "    precision = true_positive / total_predicted_positive\n",
    "    \n",
    "    f1_score = ((precision * recall) / (precision + recall)) * 2\n",
    "    return f1_score"
   ]
  },
  {
   "cell_type": "code",
   "execution_count": 3,
   "id": "5ac532f5",
   "metadata": {},
   "outputs": [
    {
     "name": "stdout",
     "output_type": "stream",
     "text": [
      "false_negative :  2\n"
     ]
    },
    {
     "data": {
      "text/plain": [
       "0.6666666666666666"
      ]
     },
     "execution_count": 3,
     "metadata": {},
     "output_type": "execute_result"
    }
   ],
   "source": [
    "real_labels = [1, 1, 0, 1, 1]\n",
    "predicted_labels = [0, 1, 0, 0, 1]\n",
    "\n",
    "f1_score(real_labels, predicted_labels)"
   ]
  },
  {
   "cell_type": "code",
   "execution_count": 4,
   "id": "70db995d",
   "metadata": {},
   "outputs": [],
   "source": [
    "def minkowski_distance(point1, point2):\n",
    "    \"\"\"\n",
    "    Minkowski distance is the generalized version of Euclidean Distance\n",
    "    It is also know as L-p norm (where p>=1) that you have studied in class\n",
    "    For our assignment we need to take p=3\n",
    "    Information on Minkowski distance - https://en.wikipedia.org/wiki/Minkowski_distance\n",
    "    :param point1: List[float]\n",
    "    :param point2: List[float]\n",
    "    :return: float\n",
    "    \"\"\"\n",
    "\n",
    "#         raise NotImplementedError\n",
    "#         difference between x and x_prime\n",
    "    x_minus_x_prime = np.subtract(point1, point2)\n",
    "\n",
    "    absolute_of_differece = np.absolute(x_minus_x_prime)\n",
    "\n",
    "        # doc : https://numpy.org/doc/stable/reference/generated/numpy.power.html?highlight=cube\n",
    "    cubed_diff = pow(absolute_of_differece, 3)\n",
    "\n",
    "#         cube diff\n",
    "    sum_of_cubed_diff = np.sum(cubed_diff)\n",
    "\n",
    "#         cubed root the sum\n",
    "    cubed_root_of_sum = np.cbrt(sum_of_cubed_diff)\n",
    "\n",
    "    return cubed_root_of_sum"
   ]
  },
  {
   "cell_type": "code",
   "execution_count": 5,
   "id": "68e3c809",
   "metadata": {},
   "outputs": [
    {
     "data": {
      "text/plain": [
       "1.2599210498948732"
      ]
     },
     "execution_count": 5,
     "metadata": {},
     "output_type": "execute_result"
    }
   ],
   "source": [
    "point1 = [1.0, 2.0]\n",
    "point2 = [2.0, 1.0]\n",
    "minkowski_distance(point1, point2)"
   ]
  },
  {
   "cell_type": "code",
   "execution_count": 6,
   "id": "e50fee09",
   "metadata": {},
   "outputs": [],
   "source": [
    "def euclidean_distance(point1, point2):\n",
    "    \"\"\"\n",
    "    :param point1: List[float]\n",
    "    :param point2: List[float]\n",
    "    :return: float\n",
    "    \"\"\"\n",
    "\n",
    "#         difference between x and x_prime\n",
    "    x_minus_x_prime = np.subtract(point1, point2)\n",
    "\n",
    "#         square difference\n",
    "    squ_diff = pow(x_minus_x_prime, 2)\n",
    "\n",
    "#         sum diff\n",
    "    sum_of_squ_diff = np.sum(squ_diff)\n",
    "\n",
    "#         square root the sum\n",
    "    squ_root_of_sum = np.sqrt(sum_of_squ_diff)\n",
    "\n",
    "    return squ_root_of_sum"
   ]
  },
  {
   "cell_type": "code",
   "execution_count": 7,
   "id": "f1f481b8",
   "metadata": {},
   "outputs": [
    {
     "data": {
      "text/plain": [
       "1.4142135623730951"
      ]
     },
     "execution_count": 7,
     "metadata": {},
     "output_type": "execute_result"
    }
   ],
   "source": [
    "point1 = [1.0, 2.0]\n",
    "point2 = [2.0, 1.0]\n",
    "euclidean_distance(point1, point2)"
   ]
  },
  {
   "cell_type": "code",
   "execution_count": 8,
   "id": "d6fca8e4",
   "metadata": {},
   "outputs": [],
   "source": [
    "def cosine_similarity_distance(point1, point2):\n",
    "    \"\"\"\n",
    "   :param point1: List[float]\n",
    "   :param point2: List[float]\n",
    "   :return: float\n",
    "   \"\"\"\n",
    "    print(point1)\n",
    "    addition_for_p1 = 0\n",
    "    \n",
    "    square_points = np.square(point1) \n",
    "    addition_for_p1 = np.sum(square_points)\n",
    "#     print(\"addition_for_p1 : \", addition_for_p1)\n",
    "\n",
    "    square_points2 = np.square(point2) \n",
    "    addition_for_p2 = np.sum(square_points2)\n",
    "#     print(\"addition_for_p2 : \", addition_for_p2)\n",
    "\n",
    "\n",
    "    numerator = np.sum(np.multiply(point1, point2))\n",
    "    denom = np.multiply(np.sqrt(addition_for_p1), np.sqrt(addition_for_p2))\n",
    "    \n",
    "    if denom == 0 :\n",
    "            return1_minus = 0\n",
    "    else : \n",
    "        return1_minus = 1 - (numerator / denom)\n",
    "            \n",
    "    if addition_for_p1 == 0 or addition_for_p2 == 0 :\n",
    "        return  1\n",
    "    else :\n",
    "        return return1_minus"
   ]
  },
  {
   "cell_type": "code",
   "execution_count": 9,
   "id": "ef68321f",
   "metadata": {},
   "outputs": [
    {
     "name": "stdout",
     "output_type": "stream",
     "text": [
      "[1.0, 3.0]\n"
     ]
    },
    {
     "data": {
      "text/plain": [
       "0.010050506338833642"
      ]
     },
     "execution_count": 9,
     "metadata": {},
     "output_type": "execute_result"
    }
   ],
   "source": [
    "point1 = [1.0, 3.0]\n",
    "point2 = [2.0, 4.0]\n",
    "cosine_similarity_distance(point1, point2)"
   ]
  },
  {
   "cell_type": "markdown",
   "id": "04a66be5",
   "metadata": {},
   "source": [
    "# doc string for class NormalizationScaler      \n",
    "        Normalize features for every sample\n",
    "\n",
    "        Example\n",
    "        features = [[3, 4], [1, -1], [0, 0]]\n",
    "        return [[0.6, 0.8], [0.707107, -0.707107], [0, 0]]\n",
    "\n",
    "        :param features: List[List[float]]\n",
    "        :return: List[List[float]]\n"
   ]
  },
  {
   "cell_type": "code",
   "execution_count": 10,
   "id": "783017c1",
   "metadata": {},
   "outputs": [],
   "source": [
    "# this code differs in what's being returned. We should return a list of a list (happening here) but the above \n",
    "#     returns an array of each list\n",
    "\n",
    "class NormalizationScaler:\n",
    "    def __init__(self):\n",
    "        pass\n",
    "\n",
    "    # TODO: normalize data\n",
    "    def __call__(self, features):\n",
    "#         raise NotImplementedError\n",
    "        a = []\n",
    "        b = []\n",
    "        \n",
    "        normalized_vector = []\n",
    "        for i in range(len(features)) : \n",
    "            a = features[i][0]\n",
    "            b = features[i][1]\n",
    "#             print(\"a = \", a,  \"b = \", b)\n",
    "            \n",
    "            add_square_points = a * a + b * b\n",
    "# #             print(\"square_points : \", square_points) \n",
    "\n",
    "            square_features = np.sqrt(add_square_points)\n",
    "#             print(\"square_features : \", square_features)\n",
    "\n",
    "            if a == 0 and b == 0 :\n",
    "#                 create empty list to add points to\n",
    "                normalized_point = []\n",
    "    \n",
    "#                 add points here\n",
    "                normalized_point.append(a)\n",
    "                normalized_point.append(b)\n",
    "                \n",
    "            else : \n",
    "#                 create empty list to add points to\n",
    "                normalized_point = []\n",
    "    \n",
    "#                 normalize each point of a \n",
    "                normalized_a = a / square_features\n",
    "    \n",
    "#                 normalize each point of b\n",
    "                normalized_b = b / square_features\n",
    "            \n",
    "#                 add points here                \n",
    "                normalized_point.append(normalized_a)\n",
    "                normalized_point.append(normalized_b)\n",
    "                \n",
    "#             add points individually to the initial array\n",
    "            normalized_vector.append(normalized_point)\n",
    "                \n",
    "        return normalized_vector"
   ]
  },
  {
   "cell_type": "code",
   "execution_count": 11,
   "id": "6eebf0ed",
   "metadata": {},
   "outputs": [
    {
     "data": {
      "text/plain": [
       "[[0.6, 0.8], [0.7071067811865475, -0.7071067811865475], [0, 0]]"
      ]
     },
     "execution_count": 11,
     "metadata": {},
     "output_type": "execute_result"
    }
   ],
   "source": [
    "n = NormalizationScaler()\n",
    "features2 = np.array([[3, 4], [1, -1], [0, 0]])\n",
    "n(features2)"
   ]
  },
  {
   "cell_type": "markdown",
   "id": "418b8f25",
   "metadata": {},
   "source": [
    "# doc string for class MinMaxScaler:\n",
    "    For each feature, normalize it linearly so that its value is between 0 and 1 across all samples.\n",
    "    For example, if the input features are [[2, -1], [-1, 5], [0, 0]],\n",
    "    the output should be [[1, 0], [0, 1], [0.333333, 0.16667]].\n",
    "    This is because: take the first feature for example, which has values 2, -1, and 0 across the three samples.\n",
    "    The minimum value of this feature is thus min=-1, while the maximum value is max=2.\n",
    "    So the new feature value for each sample can be computed by: new_value = (old_value - min)/(max-min),\n",
    "    leading to 1, 0, and 0.333333.\n",
    "        ==> 2 : n_v_[0][0] = (2 - (-1)) / (2 - (-1)) =  3 / 3 = 1\n",
    "        ==> -1 : n_v_[1][0] = (-1 - (-1)) / (2 - (-1)) =  0 / 1 = 0\n",
    "        ==> 0 : n_v_[2][0] = (0 - (-1)) / (2 - (-1)) =  1 / 3 = 0.33\n",
    "        \n",
    "    If max happens to be same as min, set all new values to be zero for this feature.\n",
    "        ==> max = min\n",
    "        ==> [[2, -1], [2, 5], [2, 0]]\n",
    "        ==> [[0, 0], [0, 1], [0, 0.16667]]\n",
    "        \n",
    "        ==> [[2, -1], [-1, -1], [0, -1]]\n",
    "        ==> [[1, 0], [0, 0], [0.333333, 0]]\n",
    "    (For further reference, see https://en.wikipedia.org/wiki/Feature_scaling.)\n",
    "\n",
    "    :param features: List[List[float]]\n",
    "    :return: List[List[float]]\n",
    "    \n",
    "    \n",
    "    If max happens to be same as min, set all new values to be zero for this feature.\n",
    "        ==> max = min\n",
    "        ==> [[2, -1], [2, 5], [2, 0]]\n",
    "        ==> [[0, 0], [0, 1], [0, 0.16667]]\n",
    "\n",
    "        ==> [[2, -1], [-1, -1], [0, -1]]\n",
    "        ==> [[1, 0], [0, 0], [0.333333, 0]]\n",
    "    (For further reference, see https://en.wikipedia.org/wiki/Feature_scaling.)\n"
   ]
  },
  {
   "cell_type": "code",
   "execution_count": 12,
   "id": "82963b46",
   "metadata": {},
   "outputs": [],
   "source": [
    "class MinMaxScaler:\n",
    "    def __init__(self):\n",
    "        pass\n",
    "\n",
    "    # TODO: min-max normalize data\n",
    "    def __call__(self, features):\n",
    "        store_m_m_s = []\n",
    "        \n",
    "        arr_f = np.asarray(features)\n",
    "        \n",
    "        col_1 = arr_f[:, 0]\n",
    "#         print(\"col_1 = \", col_1)\n",
    "        \n",
    "        col_2 = arr_f[:, 1] \n",
    "#         print(\"col_2 = \", col_2)\n",
    "        \n",
    "#         print(\"col_1.min = \", col_1.min())\n",
    "#         print(\"col_1.max = \", col_1.max())\n",
    "        \n",
    "#         check for col_1\n",
    "        if col_1.min() == col_1.max() :\n",
    "            arr_f[:, 0] = float(0.0)\n",
    "            store_m_m_s.append(arr_f[:, 0])\n",
    "        else :\n",
    "            c_1 = (col_1 - col_1.min()) / (col_1.max() - col_1.min())\n",
    "#             print(\"c_1 = \", c_1)\n",
    "            store_m_m_s.append(c_1)\n",
    "        \n",
    "#         check for col_2\n",
    "        if col_2.min() == col_2.max() :\n",
    "            arr_f[:, 1] = float(0.0)\n",
    "#             print(\"features = \", features)\n",
    "            store_m_m_s.append(arr_f[:, 1])\n",
    "        else :\n",
    "            c_2 = (col_2 - col_2.min()) / (col_2.max() - col_2.min())\n",
    "#             print(\"c_2 = \", c_2)\n",
    "            store_m_m_s.append(c_2)\n",
    "        \n",
    "#         print(\"store_m_m_s : \", store_m_m_s)\n",
    "        \n",
    "#         convert from array in list to list in list\n",
    "        list_a = list(store_m_m_s[0])\n",
    "        list_b = list(store_m_m_s[1])\n",
    "        \n",
    "        final_list = [list(a) for a in zip(list_a, list_b)]\n",
    "\n",
    "        return final_list"
   ]
  },
  {
   "cell_type": "code",
   "execution_count": 13,
   "id": "f40671cb",
   "metadata": {},
   "outputs": [],
   "source": [
    "m = MinMaxScaler()"
   ]
  },
  {
   "cell_type": "code",
   "execution_count": 14,
   "id": "7f4ba44b",
   "metadata": {},
   "outputs": [],
   "source": [
    "# how to index by row\n",
    "# [\n",
    "#     0 [0, 1],\n",
    "#     1 [0, 1],\n",
    "#     2 [0, 1]\n",
    "# ]\n",
    "\n",
    "# how to index by column\n",
    "# [    0  1\n",
    "#     [0, 1],\n",
    "#     [0, 1],\n",
    "#     [0, 1]\n",
    "# ]"
   ]
  },
  {
   "cell_type": "code",
   "execution_count": 15,
   "id": "40551dfe",
   "metadata": {},
   "outputs": [
    {
     "data": {
      "text/plain": [
       "[[1.0, 0], [0.0, 0], [0.3333333333333333, 0]]"
      ]
     },
     "execution_count": 15,
     "metadata": {},
     "output_type": "execute_result"
    }
   ],
   "source": [
    "input3 = [\n",
    "    [2, 3], \n",
    "    [-1, 3], \n",
    "    [0, 3]\n",
    "    ]\n",
    "m(input3)"
   ]
  },
  {
   "cell_type": "code",
   "execution_count": 16,
   "id": "ff9a1f62",
   "metadata": {},
   "outputs": [
    {
     "data": {
      "text/plain": [
       "[[0, 0.0], [0, 1.0], [0, 0.6666666666666666]]"
      ]
     },
     "execution_count": 16,
     "metadata": {},
     "output_type": "execute_result"
    }
   ],
   "source": [
    "input3 = [\n",
    "    [-5, -3], \n",
    "    [-5, 3], \n",
    "    [-5, 1]\n",
    "    ]\n",
    "m(input3)"
   ]
  },
  {
   "cell_type": "code",
   "execution_count": null,
   "id": "a74ee40c",
   "metadata": {},
   "outputs": [],
   "source": []
  }
 ],
 "metadata": {
  "kernelspec": {
   "display_name": "Python 3 (ipykernel)",
   "language": "python",
   "name": "python3"
  },
  "language_info": {
   "codemirror_mode": {
    "name": "ipython",
    "version": 3
   },
   "file_extension": ".py",
   "mimetype": "text/x-python",
   "name": "python",
   "nbconvert_exporter": "python",
   "pygments_lexer": "ipython3",
   "version": "3.8.12"
  }
 },
 "nbformat": 4,
 "nbformat_minor": 5
}
