{
 "cells": [
  {
   "cell_type": "code",
   "execution_count": 1,
   "id": "353046c7",
   "metadata": {},
   "outputs": [],
   "source": [
    "import numpy as np"
   ]
  },
  {
   "cell_type": "markdown",
   "id": "ad25bff7",
   "metadata": {},
   "source": [
    "# doc string\n",
    "        \"\"\"\n",
    "        Normalize features for every sample\n",
    "\n",
    "        Example\n",
    "        features = [[3, 4], [1, -1], [0, 0]]\n",
    "        return [[0.6, 0.8], [0.707107, -0.707107], [0, 0]]\n",
    "\n",
    "        :param features: List[List[float]]\n",
    "        :return: List[List[float]]\n",
    "        \"\"\""
   ]
  },
  {
   "cell_type": "code",
   "execution_count": 69,
   "id": "f1a57c24",
   "metadata": {},
   "outputs": [],
   "source": [
    "class NormalizationScaler:\n",
    "    def __init__(self):\n",
    "        pass\n",
    "\n",
    "    # TODO: normalize data\n",
    "    def __call__(self, features):\n",
    "#         raise NotImplementedError\n",
    "        a = []\n",
    "        b = []\n",
    "        \n",
    "        normalized_vector = []\n",
    "        final_list = []\n",
    "        for i in range(len(features)) : \n",
    "            a = features[i][0]\n",
    "            b = features[i][1]\n",
    "#             print(\"a = \", a,  \"b = \", b)\n",
    "            \n",
    "            add_square_points = a * a + b * b\n",
    "#             print(\"add_square_points : \", add_square_points) \n",
    "\n",
    "            square_features = np.sqrt(add_square_points)\n",
    "#             print(\"square_features : \", square_features)\n",
    "\n",
    "            if a == 0 and b == 0 :\n",
    "#                 create empty list to add points to\n",
    "                normalized_point = []\n",
    "    \n",
    "#                 add points here\n",
    "                normalized_point.append(a)\n",
    "                normalized_point.append(b)\n",
    "                \n",
    "            else : \n",
    "#                 create empty list to add points to\n",
    "                normalized_point = []\n",
    "    \n",
    "#                 normalize each point of a \n",
    "                print(\">>>> \", a, \" / \", square_features)\n",
    "                normalized_a = a / square_features\n",
    "    \n",
    "#                 normalize each point of b\n",
    "#                 print(\">>>> \", b, \" / \", square_features)\n",
    "                normalized_b = b / square_features\n",
    "            \n",
    "#                 add points here                \n",
    "                normalized_point.append(normalized_a)\n",
    "                print(\"normalized_a : \", normalized_a)\n",
    "                normalized_point.append(normalized_b)\n",
    "#                 print(\"normalized_b : \", normalized_b)\n",
    "                \n",
    "#             add points individually to the initial array\n",
    "            normalized_vector.append(normalized_point)\n",
    "        print(\"normalized_vector : \", normalized_vector)\n",
    "            \n",
    "        arr_f = np.asarray(normalized_vector, dtype=float)\n",
    "        col_1 = arr_f[:, 0]\n",
    "#         print(\"col_1 = \", col_1)\n",
    "        \n",
    "        col_2 = arr_f[:, 1]\n",
    "#         print(\"col_2 = \", col_2)\n",
    "        \n",
    "#         list_a2 = [float(a) for a in col_1]\n",
    "#         print(\"list_a2 : \", list_a2)\n",
    "        \n",
    "#         list_b2 = [float(b) for b in col_2]\n",
    "#         print(\"list_b2 : \", list_b2)\n",
    "        \n",
    "#         final_list = [list(a) for a in zip(list_a2, list_b2)]\n",
    "    \n",
    "        return final_list"
   ]
  },
  {
   "cell_type": "code",
   "execution_count": 70,
   "id": "37a334bd",
   "metadata": {},
   "outputs": [
    {
     "name": "stdout",
     "output_type": "stream",
     "text": [
      ">>>>  3  /  5.0\n",
      "normalized_a :  0.6\n",
      ">>>>  1  /  1.4142135623730951\n",
      "normalized_a :  0.7071067811865475\n"
     ]
    },
    {
     "data": {
      "text/plain": [
       "[]"
      ]
     },
     "execution_count": 70,
     "metadata": {},
     "output_type": "execute_result"
    }
   ],
   "source": [
    "n = NormalizationScaler()\n",
    "features2 = np.array([[3, 4], [1, -1], [0, 0]])\n",
    "n(features2)"
   ]
  },
  {
   "cell_type": "code",
   "execution_count": null,
   "id": "47e63a1a",
   "metadata": {},
   "outputs": [],
   "source": []
  },
  {
   "cell_type": "code",
   "execution_count": null,
   "id": "99ff09cc",
   "metadata": {},
   "outputs": [],
   "source": []
  }
 ],
 "metadata": {
  "kernelspec": {
   "display_name": "Python 3 (ipykernel)",
   "language": "python",
   "name": "python3"
  },
  "language_info": {
   "codemirror_mode": {
    "name": "ipython",
    "version": 3
   },
   "file_extension": ".py",
   "mimetype": "text/x-python",
   "name": "python",
   "nbconvert_exporter": "python",
   "pygments_lexer": "ipython3",
   "version": "3.8.12"
  }
 },
 "nbformat": 4,
 "nbformat_minor": 5
}
