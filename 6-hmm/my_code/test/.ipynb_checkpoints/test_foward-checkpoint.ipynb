{
 "cells": [
  {
   "cell_type": "code",
   "execution_count": 1,
   "id": "63bfa4fd",
   "metadata": {},
   "outputs": [],
   "source": [
    "import numpy as np"
   ]
  },
  {
   "cell_type": "code",
   "execution_count": 2,
   "id": "35382d63",
   "metadata": {},
   "outputs": [
    {
     "name": "stdout",
     "output_type": "stream",
     "text": [
      "A :  [[0.5 0.5]\n",
      " [0.3 0.7]]\n"
     ]
    }
   ],
   "source": [
    "pi = np.array([0.375, 0.625])\n",
    "# alpha = np.zeros([2, 7])\n",
    "A = np.array([[0.5, 0.5], [0.3, 0.7]])\n",
    "print(\"A : \", A)\n",
    "B = np.array([[0.8, 0.2], [0.4, 0.6]])"
   ]
  },
  {
   "cell_type": "code",
   "execution_count": 65,
   "id": "cd8bda04",
   "metadata": {},
   "outputs": [
    {
     "name": "stdout",
     "output_type": "stream",
     "text": [
      "alpha :  [0.30000000000000004, 0.25]\n"
     ]
    }
   ],
   "source": [
    "alpha = []\n",
    "for s in range(2) : \n",
    "    p_B = pi[s] * B[s][0]\n",
    "    alpha.append(p_B)\n",
    "# print(\"alpha : \", alpha)\n",
    "\n",
    "    \n",
    "for s in range(2) :\n",
    "    alpha_arr[:s]\n",
    "    "
   ]
  },
  {
   "cell_type": "code",
   "execution_count": null,
   "id": "5a652d86",
   "metadata": {},
   "outputs": [],
   "source": []
  }
 ],
 "metadata": {
  "kernelspec": {
   "display_name": "Python 3 (ipykernel)",
   "language": "python",
   "name": "python3"
  },
  "language_info": {
   "codemirror_mode": {
    "name": "ipython",
    "version": 3
   },
   "file_extension": ".py",
   "mimetype": "text/x-python",
   "name": "python",
   "nbconvert_exporter": "python",
   "pygments_lexer": "ipython3",
   "version": "3.8.12"
  }
 },
 "nbformat": 4,
 "nbformat_minor": 5
}
