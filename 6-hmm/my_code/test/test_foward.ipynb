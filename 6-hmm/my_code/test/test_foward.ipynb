{
 "cells": [
  {
   "cell_type": "code",
   "execution_count": 1,
   "id": "e6da11a8",
   "metadata": {},
   "outputs": [],
   "source": [
    "import numpy as np"
   ]
  },
  {
   "cell_type": "code",
   "execution_count": 2,
   "id": "6dd71c01",
   "metadata": {},
   "outputs": [
    {
     "name": "stdout",
     "output_type": "stream",
     "text": [
      "A :  [[0.5 0.5]\n",
      " [0.3 0.7]]\n"
     ]
    }
   ],
   "source": [
    "pi = np.array([0.375, 0.625])\n",
    "# alpha = np.zeros([2, 7])\n",
    "A = np.array([[0.5, 0.5], [0.3, 0.7]])\n",
    "print(\"A : \", A)\n",
    "B = np.array([[0.8, 0.2], [0.4, 0.6]])"
   ]
  },
  {
   "cell_type": "code",
   "execution_count": 87,
   "id": "df263a5e",
   "metadata": {},
   "outputs": [
    {
     "name": "stdout",
     "output_type": "stream",
     "text": [
      "alpha :  0.30000000000000004\n",
      "A[s] :  0.5\n",
      "B[s] :  [0.8 0.2]\n",
      "alpha :  0.25\n",
      "A[s] :  0.3\n",
      "B[s] :  [0.4 0.6]\n"
     ]
    }
   ],
   "source": [
    "alpha = []\n",
    "for s in range(2) : \n",
    "    p_B = pi[s] * B[s][0]\n",
    "    alpha.append(p_B)\n",
    "# print(\"alpha : \", alpha)\n",
    "\n",
    "    \n",
    "for s in range(2) :\n",
    "    print(\"alpha : \", alpha[s])\n",
    "    print(\"A[s] : \", A[s][0])\n",
    "    print(\"B[s] : \", B[s])\n",
    "    new_a = np.sum(alpha[s] * A[s] * B[s])\n",
    "#     print(\"new_a : \", new_a)\n",
    "    "
   ]
  },
  {
   "cell_type": "code",
   "execution_count": null,
   "id": "cd1d6950",
   "metadata": {},
   "outputs": [],
   "source": []
  }
 ],
 "metadata": {
  "kernelspec": {
   "display_name": "Python 3 (ipykernel)",
   "language": "python",
   "name": "python3"
  },
  "language_info": {
   "codemirror_mode": {
    "name": "ipython",
    "version": 3
   },
   "file_extension": ".py",
   "mimetype": "text/x-python",
   "name": "python",
   "nbconvert_exporter": "python",
   "pygments_lexer": "ipython3",
   "version": "3.8.12"
  }
 },
 "nbformat": 4,
 "nbformat_minor": 5
}
