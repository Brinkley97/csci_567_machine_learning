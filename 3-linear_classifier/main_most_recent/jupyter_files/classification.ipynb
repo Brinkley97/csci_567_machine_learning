{
 "cells": [
  {
   "cell_type": "code",
   "execution_count": 1,
   "id": "704c0d2d-fee2-485e-8927-db3a155583f7",
   "metadata": {},
   "outputs": [
    {
     "ename": "ModuleNotFoundError",
     "evalue": "No module named 'bm_classify'",
     "output_type": "error",
     "traceback": [
      "\u001b[0;31m---------------------------------------------------------------------------\u001b[0m",
      "\u001b[0;31mModuleNotFoundError\u001b[0m                       Traceback (most recent call last)",
      "\u001b[0;32m/var/folders/fz/zn5r8vq12nv5p23dtlr15sk40000gn/T/ipykernel_16726/1648519617.py\u001b[0m in \u001b[0;36m<module>\u001b[0;34m\u001b[0m\n\u001b[1;32m      1\u001b[0m \u001b[0;32mfrom\u001b[0m \u001b[0m__future__\u001b[0m \u001b[0;32mimport\u001b[0m \u001b[0mdivision\u001b[0m\u001b[0;34m,\u001b[0m \u001b[0mprint_function\u001b[0m\u001b[0;34m\u001b[0m\u001b[0;34m\u001b[0m\u001b[0m\n\u001b[1;32m      2\u001b[0m \u001b[0;32mimport\u001b[0m \u001b[0mnumpy\u001b[0m \u001b[0;32mas\u001b[0m \u001b[0mnp\u001b[0m\u001b[0;34m\u001b[0m\u001b[0;34m\u001b[0m\u001b[0m\n\u001b[0;32m----> 3\u001b[0;31m \u001b[0;32mimport\u001b[0m \u001b[0mbm_classify\u001b[0m \u001b[0;32mas\u001b[0m \u001b[0msol\u001b[0m\u001b[0;34m\u001b[0m\u001b[0;34m\u001b[0m\u001b[0m\n\u001b[0m\u001b[1;32m      4\u001b[0m \u001b[0;34m\u001b[0m\u001b[0m\n\u001b[1;32m      5\u001b[0m \u001b[0;32mdef\u001b[0m \u001b[0maccuracy_score\u001b[0m\u001b[0;34m(\u001b[0m\u001b[0mtrue\u001b[0m\u001b[0;34m,\u001b[0m \u001b[0mpreds\u001b[0m\u001b[0;34m)\u001b[0m\u001b[0;34m:\u001b[0m\u001b[0;34m\u001b[0m\u001b[0;34m\u001b[0m\u001b[0m\n",
      "\u001b[0;31mModuleNotFoundError\u001b[0m: No module named 'bm_classify'"
     ]
    }
   ],
   "source": [
    "from __future__ import division, print_function\n",
    "import numpy as np\n",
    "import bm_classify as sol\n",
    "\n",
    "def accuracy_score(true, preds):\n",
    "    return np.sum(true == preds).astype(float) / len(true)\n",
    "\n",
    "def run_binary():\n",
    "    from data_loader import toy_data_binary, \\\n",
    "                            moon_dataset, \\\n",
    "                            data_loader_mnist \n",
    "\n",
    "    datasets = [(toy_data_binary(), 'Synthetic data'), \n",
    "                (moon_dataset(), 'Two Moon data'),\n",
    "                (data_loader_mnist(), 'Binarized MNIST data')]\n",
    "\n",
    "    for data, name in datasets:\n",
    "        print(name)\n",
    "        X_train, X_test, y_train, y_test = data\n",
    "\n",
    "        if name == 'Binarized MNIST data':\n",
    "            y_train = [0 if yi < 5 else 1 for yi in y_train]\n",
    "            y_test = [0 if yi < 5 else 1 for yi in y_test]\n",
    "            y_train = np.asarray(y_train)\n",
    "            y_test = np.asarray(y_test)\n",
    "\n",
    "        for loss_type in [\"perceptron\", \"logistic\"]:\n",
    "            w, b = sol.binary_train(X_train, y_train, loss=loss_type)\n",
    "            train_preds = sol.binary_predict(X_train, w, b)\n",
    "            preds = sol.binary_predict(X_test, w, b)\n",
    "            print(loss_type + ' train acc: %f, test acc: %f' \n",
    "                %(accuracy_score(y_train, train_preds), accuracy_score(y_test, preds)))\n",
    "        print()\n",
    "\n",
    "def run_multiclass():\n",
    "    from data_loader import toy_data_multiclass, \\\n",
    "                            data_loader_mnist \n",
    "    import time\n",
    "    datasets = [(toy_data_multiclass(), 'Toy Data multiclass', 3),\\\n",
    "                (data_loader_mnist(), 'MNIST', 10)]\n",
    "\n",
    "    for data, name, num_classes in datasets:\n",
    "        print('%s: %d class classification' % (name, num_classes))\n",
    "        X_train, X_test, y_train, y_test = data\n",
    "        for gd_type in [\"sgd\", \"gd\"]:\n",
    "            s = time.time()\n",
    "            w, b = sol.multiclass_train(X_train, y_train, C=num_classes, gd_type=gd_type)\n",
    "            print(gd_type + ' training time: %0.6f seconds' %(time.time()-s))\n",
    "            train_preds = sol.multiclass_predict(X_train, w=w, b=b)\n",
    "            preds = sol.multiclass_predict(X_test, w=w, b=b)\n",
    "            print('train acc: %f, test acc: %f' \n",
    "                % (accuracy_score(y_train, train_preds), accuracy_score(y_test, preds)))\n",
    "        print()\n",
    "        \n",
    "\n",
    "\n",
    "if __name__ == '__main__':\n",
    "    \n",
    "    import argparse\n",
    "    import sys\n",
    "\n",
    "    parser = argparse.ArgumentParser()\n",
    "    parser.add_argument(\"--type\", )\n",
    "    parser.add_argument(\"--output\")\n",
    "    args = parser.parse_args()\n",
    "\n",
    "    if args.output:\n",
    "        sys.stdout = open(args.output, 'w')\n",
    "\n",
    "    if not args.type or args.type == 'binary':\n",
    "        run_binary()\n",
    "\n",
    "    if not args.type or args.type == 'multiclass':\n",
    "        run_multiclass()\n"
   ]
  },
  {
   "cell_type": "code",
   "execution_count": null,
   "id": "86f080e6-f8f0-44bc-a206-f454fa60f42e",
   "metadata": {},
   "outputs": [],
   "source": []
  }
 ],
 "metadata": {
  "kernelspec": {
   "display_name": "Python 3 (ipykernel)",
   "language": "python",
   "name": "python3"
  },
  "language_info": {
   "codemirror_mode": {
    "name": "ipython",
    "version": 3
   },
   "file_extension": ".py",
   "mimetype": "text/x-python",
   "name": "python",
   "nbconvert_exporter": "python",
   "pygments_lexer": "ipython3",
   "version": "3.9.7"
  }
 },
 "nbformat": 4,
 "nbformat_minor": 5
}
