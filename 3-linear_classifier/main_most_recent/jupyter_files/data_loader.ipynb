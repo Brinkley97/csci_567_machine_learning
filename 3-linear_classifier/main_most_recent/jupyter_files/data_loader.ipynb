{
 "cells": [
  {
   "cell_type": "code",
   "execution_count": 1,
   "id": "9dc0c68f-051c-4270-a0e5-bb8d5e60e012",
   "metadata": {},
   "outputs": [],
   "source": [
    "from sklearn.datasets import make_classification, make_blobs, make_moons, load_iris\n",
    "from sklearn.model_selection import train_test_split\n",
    "# from linear_regression import mapping_data\n",
    "\n",
    "import json\n",
    "import numpy as np\n",
    "import pandas as pd\n",
    "\n",
    "\n",
    "# Binary classification data\n",
    "def toy_data_binary():\n",
    "  data = make_classification(n_samples=500, \n",
    "                              n_features=2,\n",
    "                              n_informative=1, \n",
    "                              n_redundant=0, \n",
    "                              n_repeated=0, \n",
    "                              n_classes=2, \n",
    "                              n_clusters_per_class=1, \n",
    "                              class_sep=1., \n",
    "                              random_state=42)\n",
    "\n",
    "  X_train, X_test, y_train, y_test = train_test_split(data[0], data[1], train_size=0.7, random_state=42)\n",
    "  return X_train, X_test, y_train, y_test\n",
    "\n",
    "\n",
    "def moon_dataset():\n",
    "  data = make_moons(n_samples=500, shuffle=True, noise=0.2, random_state=42)\n",
    "  X_train, X_test, y_train, y_test = train_test_split(data[0], data[1], train_size=0.7, random_state=42)\n",
    "  return X_train, X_test, y_train, y_test\n",
    "\n",
    "\n",
    "# Multiple classification data\n",
    "\n",
    "def toy_data_multiclass():\n",
    "  data = make_blobs(n_samples=2000,\n",
    "                     n_features=2,\n",
    "                     random_state=42,\n",
    "                     centers=[[-0.5, 1],[0, 1.5],[0.5, 1]],\n",
    "                     cluster_std=0.2);\n",
    "  X_train, X_test, y_train, y_test = train_test_split(data[0], data[1], train_size=0.7, random_state=42)\n",
    "  return X_train, X_test, y_train, y_test\n",
    "\n",
    "\n",
    "# Hand-written digits data\n",
    "def data_loader_mnist(dataset='mnist_subset.json'):\n",
    "  # This function reads the MNIST data and separate it into train, val, and test set\n",
    "  with open(dataset, 'r') as f:\n",
    "        data_set = json.load(f)\n",
    "  train_set, valid_set, test_set = data_set['train'], data_set['valid'], data_set['test']\n",
    "\n",
    "  return np.asarray(train_set[0]), \\\n",
    "          np.asarray(test_set[0]), \\\n",
    "          np.asarray(train_set[1]), \\\n",
    "          np.asarray(test_set[1])\n",
    "\n",
    "\n",
    "\n"
   ]
  },
  {
   "cell_type": "code",
   "execution_count": null,
   "id": "50d86ba2-b51d-4ae7-9150-439417ff4606",
   "metadata": {},
   "outputs": [],
   "source": []
  }
 ],
 "metadata": {
  "kernelspec": {
   "display_name": "Python 3 (ipykernel)",
   "language": "python",
   "name": "python3"
  },
  "language_info": {
   "codemirror_mode": {
    "name": "ipython",
    "version": 3
   },
   "file_extension": ".py",
   "mimetype": "text/x-python",
   "name": "python",
   "nbconvert_exporter": "python",
   "pygments_lexer": "ipython3",
   "version": "3.9.7"
  }
 },
 "nbformat": 4,
 "nbformat_minor": 5
}
