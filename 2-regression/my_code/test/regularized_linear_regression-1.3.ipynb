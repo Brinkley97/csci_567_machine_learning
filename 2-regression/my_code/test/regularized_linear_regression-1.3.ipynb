{
 "cells": [
  {
   "cell_type": "markdown",
   "id": "4d0f89ad",
   "metadata": {},
   "source": [
    "###### Part 1.3 ######"
   ]
  },
  {
   "cell_type": "markdown",
   "id": "40650d35",
   "metadata": {},
   "source": [
    "## doc string\n",
    "    Compute the weight parameter given X, y and lambda.\n",
    "    - Inputs:\n",
    "        - X: A numpy array of shape (num_samples, D) containing features\n",
    "        - y: A numpy array of shape (num_samples, ) containing labels\n",
    "        - lambd: a float number specifying the regularization parameter\n",
    "    - Returns:\n",
    "        - w: a numpy array of shape (D, )"
   ]
  },
  {
   "cell_type": "code",
   "execution_count": 1,
   "id": "f81f66b2",
   "metadata": {},
   "outputs": [],
   "source": [
    "def regularized_linear_regression(X, y, lambd):\n",
    "\n",
    "    D = X.shape[1]\n",
    "    s = np.eye(D)\n",
    "    w = np.dot(np.linalg.inv(lambd * s + np.dot(np.transpose(X), X)), np.dot(np.transpose(X), y))\n",
    "\n",
    "    return w"
   ]
  },
  {
   "cell_type": "code",
   "execution_count": null,
   "id": "b5237c8d",
   "metadata": {},
   "outputs": [],
   "source": []
  }
 ],
 "metadata": {
  "kernelspec": {
   "display_name": "Python 3 (ipykernel)",
   "language": "python",
   "name": "python3"
  },
  "language_info": {
   "codemirror_mode": {
    "name": "ipython",
    "version": 3
   },
   "file_extension": ".py",
   "mimetype": "text/x-python",
   "name": "python",
   "nbconvert_exporter": "python",
   "pygments_lexer": "ipython3",
   "version": "3.8.12"
  }
 },
 "nbformat": 4,
 "nbformat_minor": 5
}
