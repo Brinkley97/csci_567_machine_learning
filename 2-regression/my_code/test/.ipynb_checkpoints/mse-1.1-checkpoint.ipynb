{
 "cells": [
  {
   "cell_type": "markdown",
   "id": "6748647a",
   "metadata": {},
   "source": [
    "###### Part 1.1 ######"
   ]
  },
  {
   "cell_type": "code",
   "execution_count": 1,
   "id": "3e504351",
   "metadata": {},
   "outputs": [],
   "source": [
    "import numpy as np\n",
    "import pandas as pd"
   ]
  },
  {
   "cell_type": "markdown",
   "id": "2f0c07f1",
   "metadata": {},
   "source": [
    "    Compute the mean square error of a model parameter w on a test set X and y.\n",
    "    Inputs:\n",
    "    - X: A numpy array of shape (num_samples, D) containing test features\n",
    "    - y: A numpy array of shape (num_samples, ) containing test labels\n",
    "    - w: a numpy array of shape (D, )\n",
    "    Returns:\n",
    "    - err: the mean square error"
   ]
  },
  {
   "cell_type": "code",
   "execution_count": 149,
   "id": "20e44ee2",
   "metadata": {},
   "outputs": [],
   "source": [
    "def mean_square_error(w, X, y):\n",
    "#     print(\"X.shape : \", np.shape(X))\n",
    "#     print(\"w.shape : \", np.shape(w))\n",
    "    w_T = np.transpose(w)\n",
    "#     print(\"w_T.shape : \", np.shape(w_T))\n",
    "#     print(\"y.shape : \", np.shape(y))\n",
    "    \n",
    "    output = np.dot(X, w_T)\n",
    "#     print(\"output : \", output)\n",
    "#     print(\"y : \", y)\n",
    "    o_minus_y = np.subtract(output, y)\n",
    "#     print(\"o_minus_y : \", o_minus_y)\n",
    "    squ = np.square(o_minus_y)\n",
    "#     print(\"squ : \", squ)\n",
    "    mean_squ = squ.mean()\n",
    "        \n",
    "    return mean_squ"
   ]
  },
  {
   "cell_type": "code",
   "execution_count": 150,
   "id": "9eccf156",
   "metadata": {},
   "outputs": [
    {
     "data": {
      "text/plain": [
       "169.0"
      ]
     },
     "execution_count": 150,
     "metadata": {},
     "output_type": "execute_result"
    }
   ],
   "source": [
    "features2 = np.array([\n",
    "    [1.0, 2.0, 3.0]\n",
    "])\n",
    "\n",
    "weights2 = np.array([\n",
    "    [1.0, 2.0, 3.0]\n",
    "])\n",
    "labels2 = np.array([\n",
    "    [1]\n",
    "])\n",
    "mean_square_error(weights2, features2, labels2)"
   ]
  },
  {
   "cell_type": "code",
   "execution_count": 131,
   "id": "009d2618",
   "metadata": {},
   "outputs": [],
   "source": [
    "def mean_square_error(w, X, y):\n",
    "    output = np.dot(X, np.transpose(w))\n",
    "    print(\"x_w : \", output)\n",
    "    sub = np.subtract(output, y)\n",
    "    print(\"sub : \", sub)\n",
    "    sq = np.square(sub)\n",
    "    print(\"sq : \", sq)\n",
    "    err = sq.mean()\n",
    "    return err"
   ]
  },
  {
   "cell_type": "code",
   "execution_count": 132,
   "id": "32610732",
   "metadata": {},
   "outputs": [
    {
     "name": "stdout",
     "output_type": "stream",
     "text": [
      "x_w :  [[14.]]\n",
      "sub :  [[13.]]\n",
      "sq :  [[169.]]\n"
     ]
    },
    {
     "data": {
      "text/plain": [
       "169.0"
      ]
     },
     "execution_count": 132,
     "metadata": {},
     "output_type": "execute_result"
    }
   ],
   "source": [
    "features3 = np.array([\n",
    "    [1.0, 2.0, 3.0]\n",
    "])\n",
    "\n",
    "weights3 = np.array([\n",
    "    [1.0, 2.0, 3.0]\n",
    "])\n",
    "labels3 = np.array([\n",
    "    [1]\n",
    "])\n",
    "mean_square_error(weights3, features3, labels3)"
   ]
  },
  {
   "cell_type": "code",
   "execution_count": 143,
   "id": "46ed3b3f",
   "metadata": {},
   "outputs": [],
   "source": [
    "def mean_square_error(w, X, y):\n",
    "    print(\"X.shape : \", np.shape(X))\n",
    "    print(\"w.shape : \", np.shape(np.transpose(w)))\n",
    "    print(\"y.shape : \", np.shape(y))\n",
    "\n",
    "    err = np.mean((np.dot(X, np.transpose(w)) - y)**2)\n",
    "    \n",
    "    return err"
   ]
  },
  {
   "cell_type": "code",
   "execution_count": 144,
   "id": "9eeabc90",
   "metadata": {},
   "outputs": [
    {
     "name": "stdout",
     "output_type": "stream",
     "text": [
      "X.shape :  (1, 3)\n",
      "w.shape :  (3, 1)\n",
      "y.shape :  (1, 1)\n"
     ]
    },
    {
     "data": {
      "text/plain": [
       "169.0"
      ]
     },
     "execution_count": 144,
     "metadata": {},
     "output_type": "execute_result"
    }
   ],
   "source": [
    "features2 = np.array([\n",
    "    [1.0, 2.0, 3.0]\n",
    "])\n",
    "\n",
    "weights2 = np.array([\n",
    "    [1.0, 2.0, 3.0]\n",
    "])\n",
    "labels2 = np.array([\n",
    "    [1]\n",
    "])\n",
    "mean_square_error(weights2, features2, labels2)"
   ]
  },
  {
   "cell_type": "code",
   "execution_count": null,
   "id": "9f90f8c9",
   "metadata": {},
   "outputs": [],
   "source": []
  }
 ],
 "metadata": {
  "kernelspec": {
   "display_name": "Python 3 (ipykernel)",
   "language": "python",
   "name": "python3"
  },
  "language_info": {
   "codemirror_mode": {
    "name": "ipython",
    "version": 3
   },
   "file_extension": ".py",
   "mimetype": "text/x-python",
   "name": "python",
   "nbconvert_exporter": "python",
   "pygments_lexer": "ipython3",
   "version": "3.8.12"
  }
 },
 "nbformat": 4,
 "nbformat_minor": 5
}
