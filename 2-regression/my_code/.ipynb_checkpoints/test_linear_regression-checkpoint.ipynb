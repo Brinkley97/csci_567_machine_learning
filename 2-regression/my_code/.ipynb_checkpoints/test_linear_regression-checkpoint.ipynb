{
 "cells": [
  {
   "cell_type": "code",
   "execution_count": 1,
   "id": "0d224ebd",
   "metadata": {},
   "outputs": [],
   "source": [
    "import numpy as np\n",
    "import pandas as pd"
   ]
  },
  {
   "cell_type": "code",
   "execution_count": 4,
   "id": "74b3193a",
   "metadata": {},
   "outputs": [],
   "source": [
    "def mean_square_error(w, X, y):\n",
    "    w_T = np.transpose(w)\n",
    "    output = np.dot(X, w_T)\n",
    "    o_minus_y = np.subtract(output, y)\n",
    "    squ = np.square(o_minus_y)\n",
    "    mean_squ = squ.mean()\n",
    "        \n",
    "    return mean_squ"
   ]
  },
  {
   "cell_type": "code",
   "execution_count": 5,
   "id": "7ad2b2f0",
   "metadata": {},
   "outputs": [
    {
     "data": {
      "text/plain": [
       "169.0"
      ]
     },
     "execution_count": 5,
     "metadata": {},
     "output_type": "execute_result"
    }
   ],
   "source": [
    "features2 = np.array([\n",
    "    [1.0, 2.0, 3.0]\n",
    "])\n",
    "\n",
    "weights2 = np.array([\n",
    "    [1.0, 2.0, 3.0]\n",
    "])\n",
    "labels2 = np.array([\n",
    "    [1]\n",
    "])\n",
    "mean_square_error(weights2, features2, labels2)"
   ]
  },
  {
   "cell_type": "code",
   "execution_count": null,
   "id": "919e0d56",
   "metadata": {},
   "outputs": [],
   "source": []
  }
 ],
 "metadata": {
  "kernelspec": {
   "display_name": "Python 3 (ipykernel)",
   "language": "python",
   "name": "python3"
  },
  "language_info": {
   "codemirror_mode": {
    "name": "ipython",
    "version": 3
   },
   "file_extension": ".py",
   "mimetype": "text/x-python",
   "name": "python",
   "nbconvert_exporter": "python",
   "pygments_lexer": "ipython3",
   "version": "3.8.12"
  }
 },
 "nbformat": 4,
 "nbformat_minor": 5
}
