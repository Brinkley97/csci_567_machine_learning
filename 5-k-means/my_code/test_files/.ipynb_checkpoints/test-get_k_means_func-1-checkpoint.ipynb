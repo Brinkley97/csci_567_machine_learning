{
 "cells": [
  {
   "cell_type": "markdown",
   "id": "3cc7817e",
   "metadata": {},
   "source": [
    "[ex](https://medium.com/geekculture/implementing-k-means-clustering-with-k-means-initialization-in-python-7ca5a859d63a)"
   ]
  },
  {
   "cell_type": "code",
   "execution_count": 1,
   "id": "7b78fca1",
   "metadata": {},
   "outputs": [],
   "source": [
    "import numpy as np"
   ]
  },
  {
   "cell_type": "markdown",
   "id": "405fcdf1",
   "metadata": {},
   "source": [
    "# doc string\n",
    "\n",
    "\n",
    "    :param n: number of samples in the data\n",
    "        ==> count to help w/ generating an index; \n",
    "        \n",
    "    :param n_cluster: the number of cluster centers required\n",
    "        ==> all clusters which is an integer\n",
    "        ==> like saying \"k\" so how many clusters we want\n",
    "        \n",
    "    :param x: data - numpy array of points\n",
    "        ==> shape (n, d) where n is the parameter n; d is the feature dimension\n",
    "        \n",
    "    :param generator: random number generator. Use it in the same way as np.random.\n",
    "            In grading, to obtain deterministic results, we will be using our own random number generator\n",
    "        ==> deterministic results : ??\n",
    "    \n",
    "    :return: a list of length n_clusters with each entry being the *index* of a sample\n",
    "             chosen as centroid.\n",
    "        ==> len(n_clusters), implies that n_clusters is a list but above it's a number???? or it could be saying\n",
    "        ==> if we have 4 clusters, then each cluster will have a center (or centroid)\n",
    "        ==> return centroid\n",
    "            ==> a list of integers\n",
    "            \n",
    "            \n",
    "    ==> ex\n",
    "        ==> Let's say you have 100 samples so n = 100. Now you might return something like [102, 12, 178, 15]\n",
    "            if you have n_cluster=4. This means that the 103th, 13th, 179th and 16th samples in your x\n",
    "            (i.e. x[102], x[12], ...) is your cluster.\n",
    "\n",
    "    \n",
    "    #############################################################################\n",
    "    # TODO: implement the rest of Kmeans++ initialization. To sample an example\n",
    "\t# according to some distribution, first generate a random number (rn) between 0 and\n",
    "\t# 1 using generator.rand(), then find the the smallest index (si) n so that the \n",
    "\t# cumulative probability (cp) from example 1 to example n is larger than r.\n",
    "        ==> rn : generator.rand()\n",
    "        ==> si : np.argmin()\n",
    "        ==> cp : the probability that the value of a random variable falls within a specified range\n",
    "        ==> r : an integer from generator.rand(); compare this w/ the pr() of each point being the next center\n",
    "    #############################################################################\n",
    "    "
   ]
  },
  {
   "cell_type": "code",
   "execution_count": 71,
   "id": "3913908a",
   "metadata": {},
   "outputs": [],
   "source": [
    "def get_k_means_plus_plus_center_indices(n, n_cluster, x, generator=np.random):\n",
    "\n",
    "    p = generator.randint(0, n) #this is the index of the first center\n",
    "    # DO NOT CHANGE CODE BELOW THIS LINE\n",
    "    \n",
    "#     you get random initial first cluster, index is p\n",
    "    center_idx = [p]\n",
    "#     print(\"center_idx : \", center_idx)\n",
    "\n",
    "#     initially cluster is x[p]\n",
    "    center = [x[p]]\n",
    "#     print(\"center : \", center)\n",
    "    distances = np.empty([len(x)])\n",
    "\n",
    "#     loop k-1 times:\n",
    "    for k in range(n_cluster - 1) :\n",
    "#         print(x[k])\n",
    "\n",
    "#         for each point in list x, calculate distance [L8 | P24]\n",
    "        for point in range(len(x)) : \n",
    "            store_dists = []\n",
    "            for c in center :\n",
    "#                 print(\"center : \", center)\n",
    "#                 print(\"c : \", c)\n",
    "\n",
    "#                 dist/norm is symmetric so can also do c (center/cluster) - x (point)\n",
    "                dist = np.linalg.norm(x[point] - c)\n",
    "#                 store distances in list\n",
    "                store_dists.append(dist)\n",
    "#             get distance @ this point\n",
    "            distances[point] = np.min(store_dists)\n",
    "#             print(f\"{distances[point] : }\", x[point])\n",
    "        \n",
    "#         probability for each point - the possibility to get it to be the new cluster [L8 | P24] \n",
    "#         sum all of dists then divide current dist by total dist\n",
    "        prob = distances / np.sum(distances)\n",
    "#         print(\"prob : \", prob, \"\\n\")\n",
    "    \n",
    "#         pick point based on prob\n",
    "#         sum_all is adding all previous pr() to current pr(); last index should sum to 1\n",
    "        sum_all = prob.cumsum()\n",
    "#         print(\"sum_all : \", sum_all)\n",
    "        r = generator.rand()\n",
    "        for j, p in enumerate(sum_all):\n",
    "            if r < p:\n",
    "                break\n",
    "#         append j (which is the index) of the new center\n",
    "        center_idx.append(j)\n",
    "    \n",
    "#         adding new centers\n",
    "        center.append(x[j])\n",
    "        print(\"center : \", center)\n",
    "        \n",
    "    return center_idx"
   ]
  },
  {
   "cell_type": "markdown",
   "id": "26f77b73",
   "metadata": {},
   "source": [
    "## params"
   ]
  },
  {
   "cell_type": "code",
   "execution_count": 72,
   "id": "807d999a",
   "metadata": {},
   "outputs": [],
   "source": [
    "n = 10\n",
    "n_cluster = 4\n",
    "x = np.array([\n",
    "    [2, 232],\n",
    "    [4, 132],\n",
    "    [78, 424],\n",
    "    [12, 239],\n",
    "    [129, 112],\n",
    "    [98, 323],\n",
    "    [45, 324],\n",
    "    [67, 219],\n",
    "    [111, 243],\n",
    "    [344, 143]\n",
    "])"
   ]
  },
  {
   "cell_type": "code",
   "execution_count": 73,
   "id": "aa642e14",
   "metadata": {},
   "outputs": [
    {
     "name": "stdout",
     "output_type": "stream",
     "text": [
      "center :  [array([ 45, 324]), array([  4, 132])]\n",
      "center :  [array([ 45, 324]), array([  4, 132]), array([344, 143])]\n",
      "center :  [array([ 45, 324]), array([  4, 132]), array([344, 143]), array([ 78, 424])]\n"
     ]
    },
    {
     "data": {
      "text/plain": [
       "[6, 1, 9, 2]"
      ]
     },
     "execution_count": 73,
     "metadata": {},
     "output_type": "execute_result"
    }
   ],
   "source": [
    "get_k_means_plus_plus_center_indices(n, n_cluster, x)"
   ]
  },
  {
   "cell_type": "code",
   "execution_count": null,
   "id": "1c561f83",
   "metadata": {},
   "outputs": [],
   "source": []
  },
  {
   "cell_type": "code",
   "execution_count": null,
   "id": "f5b4375f",
   "metadata": {},
   "outputs": [],
   "source": []
  }
 ],
 "metadata": {
  "kernelspec": {
   "display_name": "Python 3 (ipykernel)",
   "language": "python",
   "name": "python3"
  },
  "language_info": {
   "codemirror_mode": {
    "name": "ipython",
    "version": 3
   },
   "file_extension": ".py",
   "mimetype": "text/x-python",
   "name": "python",
   "nbconvert_exporter": "python",
   "pygments_lexer": "ipython3",
   "version": "3.8.12"
  }
 },
 "nbformat": 4,
 "nbformat_minor": 5
}
