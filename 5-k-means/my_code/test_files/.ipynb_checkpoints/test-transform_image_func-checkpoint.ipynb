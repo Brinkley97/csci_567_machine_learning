{
 "cells": [
  {
   "cell_type": "code",
   "execution_count": 1,
   "id": "074ea694",
   "metadata": {},
   "outputs": [],
   "source": [
    "import numpy as np"
   ]
  },
  {
   "cell_type": "code",
   "execution_count": 2,
   "id": "0c2ccef0",
   "metadata": {},
   "outputs": [],
   "source": [
    "def transform_image(image, code_vectors):\n",
    "    '''\n",
    "        Quantize image using the code_vectors (aka centroids)\n",
    "\n",
    "        Return a new image by replacing each RGB value in image with the nearest code vector\n",
    "          (nearest in euclidean distance sense)\n",
    "\n",
    "        returns:\n",
    "            numpy array of shape image.shape\n",
    "    '''\n",
    "\n",
    "    assert image.shape[2] == 3 and len(image.shape) == 3, \\\n",
    "        'Image should be a 3-D array with size (?,?,3)'\n",
    "\n",
    "    assert code_vectors.shape[1] == 3 and len(code_vectors.shape) == 2, \\\n",
    "        'code_vectors should be a 2-D array with size (?,3)'\n",
    "    ##############################################################################\n",
    "    # TODO\n",
    "    # - replace each pixel (a 3-dimensional point) by its nearest code vector\n",
    "    ##############################################################################"
   ]
  },
  {
   "cell_type": "code",
   "execution_count": null,
   "id": "74da6956",
   "metadata": {},
   "outputs": [],
   "source": []
  }
 ],
 "metadata": {
  "kernelspec": {
   "display_name": "Python 3 (ipykernel)",
   "language": "python",
   "name": "python3"
  },
  "language_info": {
   "codemirror_mode": {
    "name": "ipython",
    "version": 3
   },
   "file_extension": ".py",
   "mimetype": "text/x-python",
   "name": "python",
   "nbconvert_exporter": "python",
   "pygments_lexer": "ipython3",
   "version": "3.8.12"
  }
 },
 "nbformat": 4,
 "nbformat_minor": 5
}
