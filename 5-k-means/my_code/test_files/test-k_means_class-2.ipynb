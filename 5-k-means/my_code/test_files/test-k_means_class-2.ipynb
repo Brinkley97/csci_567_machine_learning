{
 "cells": [
  {
   "cell_type": "code",
   "execution_count": 1,
   "id": "a99b9aae",
   "metadata": {},
   "outputs": [],
   "source": [
    "import numpy as np"
   ]
  },
  {
   "cell_type": "code",
   "execution_count": 2,
   "id": "86c65683",
   "metadata": {},
   "outputs": [],
   "source": [
    "# Vanilla initialization method for KMeans\n",
    "def get_lloyd_k_means(n, n_cluster, x, generator):\n",
    "    return generator.choice(n, size=n_cluster)"
   ]
  },
  {
   "cell_type": "markdown",
   "id": "a603c029",
   "metadata": {},
   "source": [
    "# doc string for class\n",
    "\n",
    "        Class KMeans:\n",
    "        Attr:\n",
    "            n_cluster - Number of clusters for kmeans clustering (Int)\n",
    "            max_iter - maximum updates for kmeans clustering (Int)\n",
    "            e - error tolerance (Float)\n",
    "            \n",
    "        \n",
    "## doc string for def fit\n",
    "        Finds n_cluster in the data x\n",
    "            ==> nc: k clusters\n",
    "        params:\n",
    "            x - N X D numpy array\n",
    "                ==> input; properly classify these points\n",
    "        returns:\n",
    "            A tuple in the following order:\n",
    "              - final centroids (fc) w/ dims n_clusters (nc) by D which is a numpy array, \n",
    "              - a length (N,) numpy array where cell i is the ith sample's \n",
    "                  assigned cluster's index (start from 0),\n",
    "                  ==> a list of what point is assigned to which cluster\n",
    "              - number of times you update the assignment, an Int (at most self.max_iter)\n",
    "              \n",
    "              tuple \n",
    "                  ==> fc : self.centers\n",
    "       \n",
    "        ###################################################################\n",
    "        # TODO: Update means and membership until convergence \n",
    "        #   (i.e., average K-mean objective changes less than self.e)\n",
    "        #   or until you have made self.max_iter updates.\n",
    "        ###################################################################"
   ]
  },
  {
   "cell_type": "code",
   "execution_count": 344,
   "id": "362b6946",
   "metadata": {},
   "outputs": [],
   "source": [
    "class KMeans():\n",
    "\n",
    "\n",
    "    def __init__(self, n_cluster, max_iter=100, e=0.0001, generator=np.random):\n",
    "        self.n_cluster = n_cluster\n",
    "        self.max_iter = max_iter\n",
    "        self.e = e\n",
    "        self.generator = generator\n",
    "\n",
    "    def fit(self, x, centroid_func=get_lloyd_k_means):\n",
    "\n",
    "        assert len(x.shape) == 2, \"fit function takes 2-D numpy arrays as input\"\n",
    "        self.generator.seed(42)\n",
    "        N, D = x.shape\n",
    "        \n",
    "#         get_lloyd_k_means(n, n_cluster, x, generator):\n",
    "#         [expression for item in iterable if condition == True]\n",
    "        self.centers = [x[i] for i in centroid_func(len(x), self.n_cluster, x, self.generator)]\n",
    "    \n",
    "#          objective func = how close each point is to the cluster center; if close enough stop running\n",
    "#         drop if obj func doesn't change much\n",
    "\n",
    "        prev_obj_func = None\n",
    "        for c in range(self.max_iter) :\n",
    "            \n",
    "            points_in_clusters = [[] for _ in range(len(self.centers))]\n",
    "            \n",
    "#             create empty list; use to assign points to specific clusters\n",
    "            assignment = np.zeros([N])\n",
    "            res = []\n",
    "            obj_func = 0\n",
    "             \n",
    "            for d_p in range(len(x)) : \n",
    "#                 numpy handles the mapping of 1 single data point (x[d_p]) to each center\n",
    "#                 axis = 1 to treat every cluster...\n",
    "                dist = np.square(np.linalg.norm(x[d_p] - self.centers, axis=1))\n",
    "#                 print(\"dist : \", dist)\n",
    "               \n",
    "#                 select the INDEX of the shortest distance \n",
    "                s_d_idx = np.argmin(dist)\n",
    "#                 print(\"s_d_idx : \", s_d_idx)\n",
    "                \n",
    "#                 add the points (.append(x[d_p])) to points_in_clusters list @ this INDEX ([s_d_idx])\n",
    "                points_in_clusters[s_d_idx].append(x[d_p])\n",
    "#                 print(\">>>>>>>>>>>> points in cluster \", s_d_idx , points_in_clusters[s_d_idx])\n",
    "        \n",
    "#                 assign @ this point this INDEX\n",
    "                assignment[d_p] = s_d_idx\n",
    "#                 print(\"assignment : \", assignment, \"\\n\")\n",
    "\n",
    "#               take the current ojb_func & add it to the distance at this INDEX\n",
    "#               print(\"dist[s_d_idx] : \", dist[s_d_idx], \"@ index : \", s_d_idx)\n",
    "                obj_func = obj_func + dist[s_d_idx]\n",
    "#             print(\"obj_func : \", obj_func)\n",
    "#             print(\"N : \", N)\n",
    "#             mean\n",
    "            obj_func = obj_func/N\n",
    "#             print(\"obj_func : \", obj_func, \"\\n\")\n",
    "\n",
    "#           show points in each cluster\n",
    "            for pt in range(len(points_in_clusters)) :                \n",
    "                if len(points_in_clusters[pt]) > 0 :\n",
    "#                     print(\"points_in_clusters[pt] : \", points_in_clusters[pt], pt)\n",
    "                    cluster_mean = np.mean(points_in_clusters[pt], axis=0)\n",
    "#                     print(\"mean in cluster \", pt, cluster_mean)\n",
    "#                     print(\" self.centers[pt] : \",  self.centers[pt], pt)\n",
    "#                     update the center @ this point\n",
    "                    self.centers[pt] = np.array(cluster_mean, dtype=float)\n",
    "                \n",
    "#             check convergence\n",
    "            if prev_obj_func != None :\n",
    "                if np.abs(obj_func - prev_obj_func) < self.e :\n",
    "                    break\n",
    "            prev_obj_func = obj_func\n",
    "            \n",
    "        return self.centers, assignment, c"
   ]
  },
  {
   "cell_type": "code",
   "execution_count": 345,
   "id": "9a3cc4f9",
   "metadata": {},
   "outputs": [],
   "source": [
    "n = 12\n",
    "n_cluster = 4\n",
    "\n",
    "x = np.array([\n",
    "    [2, 80],\n",
    "    [5, 67],\n",
    "    [90, 42],\n",
    "    [32, 50],\n",
    "    [34, 1],\n",
    "    [10, 100],\n",
    "    [2, 20],\n",
    "    [9, 9],\n",
    "    [45, 37],\n",
    "    [78, 150],\n",
    "    [100, 13],\n",
    "    [78, 140],\n",
    "])\n",
    "# make sure self.centers has the same # of columns as x.shape\n",
    "# print(x.shape)\n"
   ]
  },
  {
   "cell_type": "code",
   "execution_count": 346,
   "id": "8391ec47",
   "metadata": {},
   "outputs": [],
   "source": [
    "k_m = KMeans(n_cluster)"
   ]
  },
  {
   "cell_type": "code",
   "execution_count": 347,
   "id": "fb1566c1",
   "metadata": {},
   "outputs": [
    {
     "data": {
      "text/plain": [
       "([array([15., 10.]),\n",
       "  array([ 78., 145.]),\n",
       "  array([95. , 27.5]),\n",
       "  array([18.8, 66.8])],\n",
       " array([3., 3., 2., 3., 0., 3., 0., 0., 3., 1., 2., 1.]),\n",
       " 7)"
      ]
     },
     "execution_count": 347,
     "metadata": {},
     "output_type": "execute_result"
    }
   ],
   "source": [
    "k_m.fit(x)"
   ]
  },
  {
   "cell_type": "code",
   "execution_count": null,
   "id": "94ab9787",
   "metadata": {},
   "outputs": [],
   "source": []
  }
 ],
 "metadata": {
  "kernelspec": {
   "display_name": "Python 3",
   "language": "python",
   "name": "python3"
  },
  "language_info": {
   "codemirror_mode": {
    "name": "ipython",
    "version": 3
   },
   "file_extension": ".py",
   "mimetype": "text/x-python",
   "name": "python",
   "nbconvert_exporter": "python",
   "pygments_lexer": "ipython3",
   "version": "3.7.5"
  }
 },
 "nbformat": 4,
 "nbformat_minor": 5
}
