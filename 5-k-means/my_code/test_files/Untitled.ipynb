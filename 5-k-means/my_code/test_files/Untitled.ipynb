{
 "cells": [
  {
   "cell_type": "code",
   "execution_count": 8,
   "id": "23e2fef2",
   "metadata": {},
   "outputs": [],
   "source": [
    "import numpy as np"
   ]
  },
  {
   "cell_type": "code",
   "execution_count": 2,
   "id": "de730432",
   "metadata": {},
   "outputs": [],
   "source": [
    "joint_lower_limits = np.array([-3.14, 1.57, 0.33, -3.14, 0, 0])\n",
    "joint_upper_limits = np.array([3.14, 5.00, 5.00, 3.14, 3.14, 3.14])"
   ]
  },
  {
   "cell_type": "code",
   "execution_count": 3,
   "id": "6b343f31",
   "metadata": {},
   "outputs": [
    {
     "name": "stdout",
     "output_type": "stream",
     "text": [
      "Bw :  [[0. 0.]\n",
      " [0. 0.]\n",
      " [0. 0.]\n",
      " [0. 0.]\n",
      " [0. 0.]\n",
      " [0. 0.]]\n"
     ]
    }
   ],
   "source": [
    "Bw = np.zeros((6,2))\n",
    "print(\"Bw : \", Bw)"
   ]
  },
  {
   "cell_type": "code",
   "execution_count": 4,
   "id": "64f0556c",
   "metadata": {},
   "outputs": [],
   "source": [
    "for i in range(len(joint_lower_limits)) :\n",
    "    Bw[i][0] = joint_lower_limits[i]\n",
    "    Bw[i][1] = joint_upper_limits[i]"
   ]
  },
  {
   "cell_type": "code",
   "execution_count": 5,
   "id": "e8437fdb",
   "metadata": {},
   "outputs": [
    {
     "name": "stdout",
     "output_type": "stream",
     "text": [
      "Bw :  [[-3.14  3.14]\n",
      " [ 1.57  5.  ]\n",
      " [ 0.33  5.  ]\n",
      " [-3.14  3.14]\n",
      " [ 0.    3.14]\n",
      " [ 0.    3.14]]\n"
     ]
    }
   ],
   "source": [
    "print(\"Bw : \", Bw)"
   ]
  },
  {
   "cell_type": "code",
   "execution_count": 17,
   "id": "8bbb9bcb",
   "metadata": {},
   "outputs": [],
   "source": [
    "t1 = np.array([\n",
    "    [3, 1, 0.33], \n",
    "    [3.14, 0, 0]\n",
    "])\n",
    "replace_t1 = np.array([\n",
    "                    [3.14, 5.00, 5.00],\n",
    "                    [3.14, 3.14, 3.14]\n",
    "                    ])"
   ]
  },
  {
   "cell_type": "code",
   "execution_count": 29,
   "id": "8cb20688",
   "metadata": {},
   "outputs": [
    {
     "name": "stdout",
     "output_type": "stream",
     "text": [
      "0 >>\n",
      " [3.14 5.   5.  ]\n",
      "1 >>\n",
      " [3.14 3.14 3.14]\n"
     ]
    }
   ],
   "source": [
    "for i in range(len(t1)) :\n",
    "#     print(i, \">>\\n\", t1[i])\n",
    "    t1[i] = replace_t1[i]\n",
    "    print(i, \">>\\n\", t1[i])"
   ]
  },
  {
   "cell_type": "code",
   "execution_count": null,
   "id": "63bee534",
   "metadata": {},
   "outputs": [],
   "source": []
  }
 ],
 "metadata": {
  "kernelspec": {
   "display_name": "Python 3 (ipykernel)",
   "language": "python",
   "name": "python3"
  },
  "language_info": {
   "codemirror_mode": {
    "name": "ipython",
    "version": 3
   },
   "file_extension": ".py",
   "mimetype": "text/x-python",
   "name": "python",
   "nbconvert_exporter": "python",
   "pygments_lexer": "ipython3",
   "version": "3.8.12"
  }
 },
 "nbformat": 4,
 "nbformat_minor": 5
}
